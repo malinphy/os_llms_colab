{
  "nbformat": 4,
  "nbformat_minor": 0,
  "metadata": {
    "colab": {
      "provenance": [],
      "include_colab_link": true
    },
    "kernelspec": {
      "display_name": "Python 3",
      "name": "python3"
    }
  },
  "cells": [
    {
      "cell_type": "markdown",
      "metadata": {
        "id": "view-in-github",
        "colab_type": "text"
      },
      "source": [
        "<a href=\"https://colab.research.google.com/github/malinphy/os_llms_colab/blob/main/small_llm_3.ipynb\" target=\"_parent\"><img src=\"https://colab.research.google.com/assets/colab-badge.svg\" alt=\"Open In Colab\"/></a>"
      ]
    },
    {
      "cell_type": "code",
      "source": [
        "from google.colab import drive\n",
        "drive.mount('/content/drive')"
      ],
      "metadata": {
        "id": "eaQrcwTkkH39",
        "outputId": "2fb9626a-f71f-4066-e9d7-9ec32131b98a",
        "colab": {
          "base_uri": "https://localhost:8080/"
        }
      },
      "execution_count": 1,
      "outputs": [
        {
          "output_type": "stream",
          "name": "stdout",
          "text": [
            "Drive already mounted at /content/drive; to attempt to forcibly remount, call drive.mount(\"/content/drive\", force_remount=True).\n"
          ]
        }
      ]
    },
    {
      "cell_type": "code",
      "metadata": {
        "id": "Lj6cbR0JBTCP",
        "outputId": "93b9ebfc-5965-4717-dc4e-5518e190db6f",
        "colab": {
          "base_uri": "https://localhost:8080/"
        }
      },
      "source": [
        "!pip install git+https://github.com/huggingface/transformers\n",
        "!pip install --upgrade requests torch einops accelerate bitsandbytes\n",
        "!pip install faiss-cpu -q\n",
        "!pip install langchain -q\n",
        "!pip install sentence-transformers -q"
      ],
      "execution_count": 2,
      "outputs": [
        {
          "output_type": "stream",
          "name": "stdout",
          "text": [
            "Collecting git+https://github.com/huggingface/transformers\n",
            "  Cloning https://github.com/huggingface/transformers to /tmp/pip-req-build-trxw1s_6\n",
            "  Running command git clone --filter=blob:none --quiet https://github.com/huggingface/transformers /tmp/pip-req-build-trxw1s_6\n",
            "  Resolved https://github.com/huggingface/transformers to commit 1be0145d6a045652c075fd5965d1e394cdb17654\n",
            "  Installing build dependencies ... \u001b[?25l\u001b[?25hdone\n",
            "  Getting requirements to build wheel ... \u001b[?25l\u001b[?25hdone\n",
            "  Preparing metadata (pyproject.toml) ... \u001b[?25l\u001b[?25hdone\n",
            "Requirement already satisfied: filelock in /usr/local/lib/python3.10/dist-packages (from transformers==4.31.0.dev0) (3.12.2)\n",
            "Requirement already satisfied: huggingface-hub<1.0,>=0.14.1 in /usr/local/lib/python3.10/dist-packages (from transformers==4.31.0.dev0) (0.16.4)\n",
            "Requirement already satisfied: numpy>=1.17 in /usr/local/lib/python3.10/dist-packages (from transformers==4.31.0.dev0) (1.22.4)\n",
            "Requirement already satisfied: packaging>=20.0 in /usr/local/lib/python3.10/dist-packages (from transformers==4.31.0.dev0) (23.1)\n",
            "Requirement already satisfied: pyyaml>=5.1 in /usr/local/lib/python3.10/dist-packages (from transformers==4.31.0.dev0) (6.0)\n",
            "Requirement already satisfied: regex!=2019.12.17 in /usr/local/lib/python3.10/dist-packages (from transformers==4.31.0.dev0) (2022.10.31)\n",
            "Requirement already satisfied: requests in /usr/local/lib/python3.10/dist-packages (from transformers==4.31.0.dev0) (2.31.0)\n",
            "Requirement already satisfied: tokenizers!=0.11.3,<0.14,>=0.11.1 in /usr/local/lib/python3.10/dist-packages (from transformers==4.31.0.dev0) (0.13.3)\n",
            "Requirement already satisfied: safetensors>=0.3.1 in /usr/local/lib/python3.10/dist-packages (from transformers==4.31.0.dev0) (0.3.1)\n",
            "Requirement already satisfied: tqdm>=4.27 in /usr/local/lib/python3.10/dist-packages (from transformers==4.31.0.dev0) (4.65.0)\n",
            "Requirement already satisfied: fsspec in /usr/local/lib/python3.10/dist-packages (from huggingface-hub<1.0,>=0.14.1->transformers==4.31.0.dev0) (2023.6.0)\n",
            "Requirement already satisfied: typing-extensions>=3.7.4.3 in /usr/local/lib/python3.10/dist-packages (from huggingface-hub<1.0,>=0.14.1->transformers==4.31.0.dev0) (4.7.1)\n",
            "Requirement already satisfied: charset-normalizer<4,>=2 in /usr/local/lib/python3.10/dist-packages (from requests->transformers==4.31.0.dev0) (2.0.12)\n",
            "Requirement already satisfied: idna<4,>=2.5 in /usr/local/lib/python3.10/dist-packages (from requests->transformers==4.31.0.dev0) (3.4)\n",
            "Requirement already satisfied: urllib3<3,>=1.21.1 in /usr/local/lib/python3.10/dist-packages (from requests->transformers==4.31.0.dev0) (1.26.16)\n",
            "Requirement already satisfied: certifi>=2017.4.17 in /usr/local/lib/python3.10/dist-packages (from requests->transformers==4.31.0.dev0) (2023.5.7)\n",
            "Requirement already satisfied: requests in /usr/local/lib/python3.10/dist-packages (2.31.0)\n",
            "Requirement already satisfied: torch in /usr/local/lib/python3.10/dist-packages (2.0.1+cu118)\n",
            "Requirement already satisfied: einops in /usr/local/lib/python3.10/dist-packages (0.6.1)\n",
            "Requirement already satisfied: accelerate in /usr/local/lib/python3.10/dist-packages (0.20.3)\n",
            "Requirement already satisfied: bitsandbytes in /usr/local/lib/python3.10/dist-packages (0.40.0.post3)\n",
            "Requirement already satisfied: charset-normalizer<4,>=2 in /usr/local/lib/python3.10/dist-packages (from requests) (2.0.12)\n",
            "Requirement already satisfied: idna<4,>=2.5 in /usr/local/lib/python3.10/dist-packages (from requests) (3.4)\n",
            "Requirement already satisfied: urllib3<3,>=1.21.1 in /usr/local/lib/python3.10/dist-packages (from requests) (1.26.16)\n",
            "Requirement already satisfied: certifi>=2017.4.17 in /usr/local/lib/python3.10/dist-packages (from requests) (2023.5.7)\n",
            "Requirement already satisfied: filelock in /usr/local/lib/python3.10/dist-packages (from torch) (3.12.2)\n",
            "Requirement already satisfied: typing-extensions in /usr/local/lib/python3.10/dist-packages (from torch) (4.7.1)\n",
            "Requirement already satisfied: sympy in /usr/local/lib/python3.10/dist-packages (from torch) (1.11.1)\n",
            "Requirement already satisfied: networkx in /usr/local/lib/python3.10/dist-packages (from torch) (3.1)\n",
            "Requirement already satisfied: jinja2 in /usr/local/lib/python3.10/dist-packages (from torch) (3.1.2)\n",
            "Requirement already satisfied: triton==2.0.0 in /usr/local/lib/python3.10/dist-packages (from torch) (2.0.0)\n",
            "Requirement already satisfied: cmake in /usr/local/lib/python3.10/dist-packages (from triton==2.0.0->torch) (3.25.2)\n",
            "Requirement already satisfied: lit in /usr/local/lib/python3.10/dist-packages (from triton==2.0.0->torch) (16.0.6)\n",
            "Requirement already satisfied: numpy>=1.17 in /usr/local/lib/python3.10/dist-packages (from accelerate) (1.22.4)\n",
            "Requirement already satisfied: packaging>=20.0 in /usr/local/lib/python3.10/dist-packages (from accelerate) (23.1)\n",
            "Requirement already satisfied: psutil in /usr/local/lib/python3.10/dist-packages (from accelerate) (5.9.5)\n",
            "Requirement already satisfied: pyyaml in /usr/local/lib/python3.10/dist-packages (from accelerate) (6.0)\n",
            "Requirement already satisfied: MarkupSafe>=2.0 in /usr/local/lib/python3.10/dist-packages (from jinja2->torch) (2.1.3)\n",
            "Requirement already satisfied: mpmath>=0.19 in /usr/local/lib/python3.10/dist-packages (from sympy->torch) (1.3.0)\n"
          ]
        }
      ]
    },
    {
      "cell_type": "code",
      "source": [
        "# import os\n",
        "# os.listdir('drive/MyDrive/QQ_PROJECTS/turkish_pro_OS/data/data/vector_stores')"
      ],
      "metadata": {
        "id": "G2g93vuyjPDe"
      },
      "execution_count": 3,
      "outputs": []
    },
    {
      "cell_type": "code",
      "source": [
        "import textwrap\n",
        "from qa import questions\n",
        "from langchain.vectorstores import FAISS\n",
        "from langchain.embeddings import HuggingFaceEmbeddings\n",
        "import pandas as pd\n",
        "import numpy as np\n",
        "from langchain.prompts import PromptTemplate"
      ],
      "metadata": {
        "id": "eQfx_njfjPAr"
      },
      "execution_count": 4,
      "outputs": []
    },
    {
      "cell_type": "code",
      "source": [
        "from transformers import AutoTokenizer, MarianMTModel,AutoModelForSeq2SeqLM\n",
        "from transformers import MarianMTModel, MarianTokenizer\n",
        "# from nltk.tokenize import sent_tokenize\n",
        "tokenizer_eng2tr = AutoTokenizer.from_pretrained(\"Helsinki-NLP/opus-mt-tc-big-en-tr\")\n",
        "model_eng2tr = AutoModelForSeq2SeqLM.from_pretrained(\"Helsinki-NLP/opus-mt-tc-big-en-tr\")"
      ],
      "metadata": {
        "id": "e1Z1IFEAo7sr",
        "outputId": "c18e7763-6602-4867-8ff1-efe15089db23",
        "colab": {
          "base_uri": "https://localhost:8080/"
        }
      },
      "execution_count": 5,
      "outputs": [
        {
          "output_type": "stream",
          "name": "stderr",
          "text": [
            "/usr/local/lib/python3.10/dist-packages/transformers/models/marian/tokenization_marian.py:194: UserWarning: Recommended: pip install sacremoses.\n",
            "  warnings.warn(\"Recommended: pip install sacremoses.\")\n"
          ]
        }
      ]
    },
    {
      "cell_type": "code",
      "source": [
        "def tr2eng(input_text):\n",
        "    src = \"tr\"  # source language\n",
        "    trg = \"en\"  # target language\n",
        "    model_name_tr2eng = f\"Helsinki-NLP/opus-mt-{src}-{trg}\"\n",
        "    model_tr2eng = MarianMTModel.from_pretrained(model_name_tr2eng)\n",
        "    tokenizer_tr2eng = AutoTokenizer.from_pretrained(model_name_tr2eng)\n",
        "    batch = tokenizer_tr2eng([input_text], return_tensors=\"pt\")\n",
        "    generated_ids = model_tr2eng.generate(**batch)\n",
        "    eng_text = tokenizer_tr2eng.batch_decode(generated_ids, skip_special_tokens=True)[0]\n",
        "    # print(eng_text)\n",
        "    return eng_text"
      ],
      "metadata": {
        "id": "aZpWvWMZlgAc"
      },
      "execution_count": 6,
      "outputs": []
    },
    {
      "cell_type": "code",
      "source": [
        "def eng2tr(english_text):\n",
        "    model_name = \"Helsinki-NLP/opus-mt-tc-big-en-tr\"\n",
        "    tokenizer_eng2tr = MarianTokenizer.from_pretrained(model_name)\n",
        "    model_eng2tr = MarianMTModel.from_pretrained(model_name)\n",
        "    translated = model_eng2tr.generate(**tokenizer_eng2tr(english_text, return_tensors=\"pt\", padding=True))\n",
        "    decoded = []\n",
        "    for t in translated:\n",
        "        decoded.append(tokenizer_eng2tr.decode(t, skip_special_tokens=True) )\n",
        "\n",
        "    return decoded"
      ],
      "metadata": {
        "id": "-9uDN905lhr1"
      },
      "execution_count": 7,
      "outputs": []
    },
    {
      "cell_type": "code",
      "source": [
        "embeddings = HuggingFaceEmbeddings(model_name=\"all-MiniLM-L6-v2\")\n",
        "db = FAISS.load_local('drive/MyDrive/QQ_PROJECTS/turkish_pro_OS/data/data/vector_stores/translated_faiss_index_helsinki',\n",
        "                      embeddings = embeddings)"
      ],
      "metadata": {
        "id": "6B9PJqSQjO-G"
      },
      "execution_count": 8,
      "outputs": []
    },
    {
      "cell_type": "code",
      "source": [
        "english_questions = []\n",
        "for i in questions:\n",
        "    # print(i)\n",
        "    english_questions.append(tr2eng(questions[i]))"
      ],
      "metadata": {
        "colab": {
          "base_uri": "https://localhost:8080/"
        },
        "id": "kJ2UylA2MCtB",
        "outputId": "4097ce5f-6f85-4c53-83cb-cd8639236f16"
      },
      "execution_count": 9,
      "outputs": [
        {
          "output_type": "stream",
          "name": "stderr",
          "text": [
            "/usr/local/lib/python3.10/dist-packages/transformers/models/marian/tokenization_marian.py:194: UserWarning: Recommended: pip install sacremoses.\n",
            "  warnings.warn(\"Recommended: pip install sacremoses.\")\n",
            "/usr/local/lib/python3.10/dist-packages/transformers/generation/utils.py:1369: UserWarning: Using `max_length`'s default (512) to control the generation length. This behaviour is deprecated and will be removed from the config in v5 of Transformers -- we recommend using `max_new_tokens` to control the maximum length of the generation.\n",
            "  warnings.warn(\n"
          ]
        }
      ]
    },
    {
      "cell_type": "code",
      "source": [
        "turkish_questions = [questions[i] for i in questions]\n",
        "turkish_questions"
      ],
      "metadata": {
        "colab": {
          "base_uri": "https://localhost:8080/"
        },
        "id": "gcIizn24NAHk",
        "outputId": "b73a4832-7572-483c-a84c-94b0db0c7020"
      },
      "execution_count": 10,
      "outputs": [
        {
          "output_type": "execute_result",
          "data": {
            "text/plain": [
              "['İşçi sözleşme süresinin bitmesinden önce yahut bildirim süresine uymaksızın işini bırakıp başka bir işverenin işine girerse sözleşmenin bu suretle feshinden ötürü, işçinin sorumluluğu yanında, yeni işveren hangi hallerde işçi ile birlikte sorumludur.',\n",
              " 'İşveren tarafından Sözleşmenin feshinde usül nedir? Nasıl olmalıdır.',\n",
              " 'İşverence fesih hakkının kötüye kullanılarak sona erdirildiği durumlarda işçiye ödenecek tazminat nasıl hesaplanır? Bu tazminat hesaplamasında hangi menfaatler de göz önünde tutulur?',\n",
              " 'Çalışma Koşullarında esaslı değişiklik nedir? İşveren bu değişikliği nasıl yapar, işçinin kabul etmeme usulü ve işçinin kabul etmemesi durumunda işverenin yapması gerekenler nelerdir',\n",
              " 'İş Sözleşmesi feshinin geçersizliğine karar verildiğinde işveren, işçiyi ne kadar süre içinde işe başlatmak zorundadır. İşveren, İşçiyi başvurusu üzerine hangi süre içinde işe başlatmaz ise, ne kadar tazminat ödemekle yükümlü olur. Kararın kesinleşmesine kadar çalıştırılmadığı süre için işçiye ne kadar sürenin doğmuş bulunan ücret ve diğer hakları ödenir.',\n",
              " 'Fesih bildiriminin; İşi bir buçuk yıldan üç yıla kadar sürmüş olan işçi için, bildirimin diğer tarafa yapılmasından başlayarak ne kadar süre önce diğer tarafa bildirilmesi gerekir?',\n",
              " 'Feshin geçerli sebebe dayandırılmasında (işe iade davası açma şartlarında) 6 aylık kıdem nasıl hesaplanır? İşçi sayısı nasıl hesaplanır? Kimler İşe iade davası açamaz? (Feshin geçerli sebebedayandırılması kimler için geçerli değildir?)',\n",
              " 'Çağrı üzerine iş sözleşmesinde günlük, haftalık çalışma süresi nedir? Çalışma çağrısı nasıl ve hangi sürelerde yapılmalıdır?',\n",
              " 'Kısmî süreli çalışan işçinin ücret ve diğer hakları nelerdir? Nasıl hesaplanarak ödenir?',\n",
              " 'Geçici işçi çalıştıran işveren iş kazasını ve meslek hastalığı bildirimlerini hangi kurumlara, hangi süre içinde ve hangi kanuna göre bildirmelidir?',\n",
              " 'İşveren hangi durumlarda, hangi bilgileri, hangi süre içinde Çalışma Bölge Müdürlüğüne bildirmek zorundadır.',\n",
              " 'Gece Çalışması nedir?',\n",
              " 'Çalışmanın belirli bir bölümünün gece sayılan döneme belirli bir bölümünün gündüz sayılan döneme denk gelmesi halinde gece çalışması nasıl yorumlanır?',\n",
              " 'Postaları çalıştırılarak yürütülen işlerde postalar nasıl düzenlenir?',\n",
              " 'Hangi sektörlerde gece çalışması yaptırılabilir?',\n",
              " 'Güvenlik, sağlık ve turizm sektöründe gece 7,5 saatten fazla çalıştırmak için ne yapılması gerekmektedir?',\n",
              " 'Güvenlik, sağlık ve turizm sektöründe gece çalıştırmak hangi tarihten itibaren gerekli koşulların sağlanması durumunda serbest olmuştur?',\n",
              " 'Kadın çalışanlar hangi durumlarda, ne kadar süre gece postalarında çalıştırılamaz?',\n",
              " 'Emziren kadın ne kadar süre gece postasında çalıştırılamaz?',\n",
              " 'Çalışan gece 7,5 saat ve gündüz 11 saatten fazla çalışmışsa, haftalık 45 saati doldurmamışsa Fazla Mesai saati nasıl hesaplanır?']"
            ]
          },
          "metadata": {},
          "execution_count": 10
        }
      ]
    },
    {
      "cell_type": "code",
      "source": [
        "questions_df = pd.DataFrame({'turkish_questions':turkish_questions,\n",
        "              'english_questions':english_questions})\n",
        "\n",
        "questions_df.head(2)"
      ],
      "metadata": {
        "id": "cbIij731jO7T",
        "colab": {
          "base_uri": "https://localhost:8080/",
          "height": 112
        },
        "outputId": "d223f088-bcaf-4bf0-efa1-8177b892d297"
      },
      "execution_count": 11,
      "outputs": [
        {
          "output_type": "execute_result",
          "data": {
            "text/plain": [
              "                                   turkish_questions  \\\n",
              "0  İşçi sözleşme süresinin bitmesinden önce yahut...   \n",
              "1  İşveren tarafından Sözleşmenin feshinde usül n...   \n",
              "\n",
              "                                   english_questions  \n",
              "0  If the employee leaves his job before the term...  \n",
              "1  What is the procedure of dissolution of the co...  "
            ],
            "text/html": [
              "\n",
              "\n",
              "  <div id=\"df-87a1cbee-eafe-4181-a7dc-8a09cedb03fb\">\n",
              "    <div class=\"colab-df-container\">\n",
              "      <div>\n",
              "<style scoped>\n",
              "    .dataframe tbody tr th:only-of-type {\n",
              "        vertical-align: middle;\n",
              "    }\n",
              "\n",
              "    .dataframe tbody tr th {\n",
              "        vertical-align: top;\n",
              "    }\n",
              "\n",
              "    .dataframe thead th {\n",
              "        text-align: right;\n",
              "    }\n",
              "</style>\n",
              "<table border=\"1\" class=\"dataframe\">\n",
              "  <thead>\n",
              "    <tr style=\"text-align: right;\">\n",
              "      <th></th>\n",
              "      <th>turkish_questions</th>\n",
              "      <th>english_questions</th>\n",
              "    </tr>\n",
              "  </thead>\n",
              "  <tbody>\n",
              "    <tr>\n",
              "      <th>0</th>\n",
              "      <td>İşçi sözleşme süresinin bitmesinden önce yahut...</td>\n",
              "      <td>If the employee leaves his job before the term...</td>\n",
              "    </tr>\n",
              "    <tr>\n",
              "      <th>1</th>\n",
              "      <td>İşveren tarafından Sözleşmenin feshinde usül n...</td>\n",
              "      <td>What is the procedure of dissolution of the co...</td>\n",
              "    </tr>\n",
              "  </tbody>\n",
              "</table>\n",
              "</div>\n",
              "      <button class=\"colab-df-convert\" onclick=\"convertToInteractive('df-87a1cbee-eafe-4181-a7dc-8a09cedb03fb')\"\n",
              "              title=\"Convert this dataframe to an interactive table.\"\n",
              "              style=\"display:none;\">\n",
              "\n",
              "  <svg xmlns=\"http://www.w3.org/2000/svg\" height=\"24px\"viewBox=\"0 0 24 24\"\n",
              "       width=\"24px\">\n",
              "    <path d=\"M0 0h24v24H0V0z\" fill=\"none\"/>\n",
              "    <path d=\"M18.56 5.44l.94 2.06.94-2.06 2.06-.94-2.06-.94-.94-2.06-.94 2.06-2.06.94zm-11 1L8.5 8.5l.94-2.06 2.06-.94-2.06-.94L8.5 2.5l-.94 2.06-2.06.94zm10 10l.94 2.06.94-2.06 2.06-.94-2.06-.94-.94-2.06-.94 2.06-2.06.94z\"/><path d=\"M17.41 7.96l-1.37-1.37c-.4-.4-.92-.59-1.43-.59-.52 0-1.04.2-1.43.59L10.3 9.45l-7.72 7.72c-.78.78-.78 2.05 0 2.83L4 21.41c.39.39.9.59 1.41.59.51 0 1.02-.2 1.41-.59l7.78-7.78 2.81-2.81c.8-.78.8-2.07 0-2.86zM5.41 20L4 18.59l7.72-7.72 1.47 1.35L5.41 20z\"/>\n",
              "  </svg>\n",
              "      </button>\n",
              "\n",
              "\n",
              "\n",
              "    <div id=\"df-7a83037a-5363-4373-b841-326f91a653b2\">\n",
              "      <button class=\"colab-df-quickchart\" onclick=\"quickchart('df-7a83037a-5363-4373-b841-326f91a653b2')\"\n",
              "              title=\"Suggest charts.\"\n",
              "              style=\"display:none;\">\n",
              "\n",
              "<svg xmlns=\"http://www.w3.org/2000/svg\" height=\"24px\"viewBox=\"0 0 24 24\"\n",
              "     width=\"24px\">\n",
              "    <g>\n",
              "        <path d=\"M19 3H5c-1.1 0-2 .9-2 2v14c0 1.1.9 2 2 2h14c1.1 0 2-.9 2-2V5c0-1.1-.9-2-2-2zM9 17H7v-7h2v7zm4 0h-2V7h2v10zm4 0h-2v-4h2v4z\"/>\n",
              "    </g>\n",
              "</svg>\n",
              "      </button>\n",
              "    </div>\n",
              "\n",
              "<style>\n",
              "  .colab-df-quickchart {\n",
              "    background-color: #E8F0FE;\n",
              "    border: none;\n",
              "    border-radius: 50%;\n",
              "    cursor: pointer;\n",
              "    display: none;\n",
              "    fill: #1967D2;\n",
              "    height: 32px;\n",
              "    padding: 0 0 0 0;\n",
              "    width: 32px;\n",
              "  }\n",
              "\n",
              "  .colab-df-quickchart:hover {\n",
              "    background-color: #E2EBFA;\n",
              "    box-shadow: 0px 1px 2px rgba(60, 64, 67, 0.3), 0px 1px 3px 1px rgba(60, 64, 67, 0.15);\n",
              "    fill: #174EA6;\n",
              "  }\n",
              "\n",
              "  [theme=dark] .colab-df-quickchart {\n",
              "    background-color: #3B4455;\n",
              "    fill: #D2E3FC;\n",
              "  }\n",
              "\n",
              "  [theme=dark] .colab-df-quickchart:hover {\n",
              "    background-color: #434B5C;\n",
              "    box-shadow: 0px 1px 3px 1px rgba(0, 0, 0, 0.15);\n",
              "    filter: drop-shadow(0px 1px 2px rgba(0, 0, 0, 0.3));\n",
              "    fill: #FFFFFF;\n",
              "  }\n",
              "</style>\n",
              "\n",
              "    <script>\n",
              "      async function quickchart(key) {\n",
              "        const containerElement = document.querySelector('#' + key);\n",
              "        const charts = await google.colab.kernel.invokeFunction(\n",
              "            'suggestCharts', [key], {});\n",
              "      }\n",
              "    </script>\n",
              "\n",
              "      <script>\n",
              "\n",
              "function displayQuickchartButton(domScope) {\n",
              "  let quickchartButtonEl =\n",
              "    domScope.querySelector('#df-7a83037a-5363-4373-b841-326f91a653b2 button.colab-df-quickchart');\n",
              "  quickchartButtonEl.style.display =\n",
              "    google.colab.kernel.accessAllowed ? 'block' : 'none';\n",
              "}\n",
              "\n",
              "        displayQuickchartButton(document);\n",
              "      </script>\n",
              "      <style>\n",
              "    .colab-df-container {\n",
              "      display:flex;\n",
              "      flex-wrap:wrap;\n",
              "      gap: 12px;\n",
              "    }\n",
              "\n",
              "    .colab-df-convert {\n",
              "      background-color: #E8F0FE;\n",
              "      border: none;\n",
              "      border-radius: 50%;\n",
              "      cursor: pointer;\n",
              "      display: none;\n",
              "      fill: #1967D2;\n",
              "      height: 32px;\n",
              "      padding: 0 0 0 0;\n",
              "      width: 32px;\n",
              "    }\n",
              "\n",
              "    .colab-df-convert:hover {\n",
              "      background-color: #E2EBFA;\n",
              "      box-shadow: 0px 1px 2px rgba(60, 64, 67, 0.3), 0px 1px 3px 1px rgba(60, 64, 67, 0.15);\n",
              "      fill: #174EA6;\n",
              "    }\n",
              "\n",
              "    [theme=dark] .colab-df-convert {\n",
              "      background-color: #3B4455;\n",
              "      fill: #D2E3FC;\n",
              "    }\n",
              "\n",
              "    [theme=dark] .colab-df-convert:hover {\n",
              "      background-color: #434B5C;\n",
              "      box-shadow: 0px 1px 3px 1px rgba(0, 0, 0, 0.15);\n",
              "      filter: drop-shadow(0px 1px 2px rgba(0, 0, 0, 0.3));\n",
              "      fill: #FFFFFF;\n",
              "    }\n",
              "  </style>\n",
              "\n",
              "      <script>\n",
              "        const buttonEl =\n",
              "          document.querySelector('#df-87a1cbee-eafe-4181-a7dc-8a09cedb03fb button.colab-df-convert');\n",
              "        buttonEl.style.display =\n",
              "          google.colab.kernel.accessAllowed ? 'block' : 'none';\n",
              "\n",
              "        async function convertToInteractive(key) {\n",
              "          const element = document.querySelector('#df-87a1cbee-eafe-4181-a7dc-8a09cedb03fb');\n",
              "          const dataTable =\n",
              "            await google.colab.kernel.invokeFunction('convertToInteractive',\n",
              "                                                     [key], {});\n",
              "          if (!dataTable) return;\n",
              "\n",
              "          const docLinkHtml = 'Like what you see? Visit the ' +\n",
              "            '<a target=\"_blank\" href=https://colab.research.google.com/notebooks/data_table.ipynb>data table notebook</a>'\n",
              "            + ' to learn more about interactive tables.';\n",
              "          element.innerHTML = '';\n",
              "          dataTable['output_type'] = 'display_data';\n",
              "          await google.colab.output.renderOutput(dataTable, element);\n",
              "          const docLink = document.createElement('div');\n",
              "          docLink.innerHTML = docLinkHtml;\n",
              "          element.appendChild(docLink);\n",
              "        }\n",
              "      </script>\n",
              "    </div>\n",
              "  </div>\n"
            ]
          },
          "metadata": {},
          "execution_count": 11
        }
      ]
    },
    {
      "cell_type": "code",
      "source": [
        "query = questions_df['english_questions'][0]"
      ],
      "metadata": {
        "id": "ExjyuGCMPcAx"
      },
      "execution_count": 12,
      "outputs": []
    },
    {
      "cell_type": "code",
      "source": [
        "def sim_results(query,k):\n",
        "    var1 = db.similarity_search(query, k)\n",
        "    content = [i.page_content for i in var1]\n",
        "    meta = [i.metadata for i in var1]\n",
        "    return content, meta"
      ],
      "metadata": {
        "id": "wsYzI0sljO4l"
      },
      "execution_count": 13,
      "outputs": []
    },
    {
      "cell_type": "code",
      "source": [
        "page_content, metadata = sim_results(query,10)"
      ],
      "metadata": {
        "id": "JtTgQFeiNhTF"
      },
      "execution_count": 14,
      "outputs": []
    },
    {
      "cell_type": "code",
      "source": [
        "page_content"
      ],
      "metadata": {
        "colab": {
          "base_uri": "https://localhost:8080/"
        },
        "id": "EYVQsQb8PBpG",
        "outputId": "cd3e4a91-c380-4644-cd54-c6aa6f331c5b"
      },
      "execution_count": 15,
      "outputs": [
        {
          "output_type": "execute_result",
          "data": {
            "text/plain": [
              "[\"Article 23 - The responsibility of the new employer is the responsibility of the employee, as well as the new employer is responsible for the dissolution of the contract if the employee's behavior is caused by the employee's new employer before the end of the contract or if the contract expires before its deadline or if the contract expires without its notice.\",\n",
              " 'During the probationary period, the parties can terminate the contract of employment without notice and without compensation.',\n",
              " 'Even though the term specified in the contract expires, the temporary employment relationship is under way, as of the end of the contract of employment between the employer and the worker who employs a temporary worker.',\n",
              " 'The contract of employment with the temporary worker states that if the worker is not called to work within a period of time, he can terminate the contract of employment for the right reason.',\n",
              " 'If not, the termination of the employer is a valid dissolution, and the employer is solely responsible for the legal consequences.',\n",
              " 'If the contract of employment expires before the end of two months, it is mandatory that the employee be given this information in writing on the deadline.',\n",
              " 'The contract of employment for a worker whose job lasted less than six months, two weeks after the notification was made to the other side, b) for a worker whose work lasted from six months to a year and a half, four weeks after my notice was made to the other side, C) for a worker whose job took up to three years from one year and a half, and six weeks after the notice was made to the other side, his job was terminated for the workers who had taken more than three years to the other.',\n",
              " \"The employer's obligation to pay a fee remains, which temporarily employs his employee.\",\n",
              " 'The employer who employs temporary workers, six from the date of dissolution of the contract of employment',\n",
              " 'The situation must be reported to the other side before the dissolution of indefinite employment contracts.']"
            ]
          },
          "metadata": {},
          "execution_count": 15
        }
      ]
    },
    {
      "cell_type": "code",
      "source": [
        "multiple_input_prompt = PromptTemplate(\n",
        "    input_variables=[\"Inputs\", \"Question\"],\n",
        "    template=\"\"\"{Inputs}\n",
        "                QUESTION :{Question}.\"\"\"\n",
        ")\n",
        "# multiple_input_prompt.format(Inputs=\" \".join(page_content), Question=query)"
      ],
      "metadata": {
        "id": "GlLOzrhrPBmY"
      },
      "execution_count": 16,
      "outputs": []
    },
    {
      "cell_type": "markdown",
      "source": [
        "## OS results"
      ],
      "metadata": {
        "id": "jYXsXeYCxmh9"
      }
    },
    {
      "cell_type": "code",
      "source": [
        "# db_os = FAISS.load_local('drive/MyDrive/QQ_PROJECTS/turkish_pro_OS/data/data/vector_stores/faiss_index_MCdocs_en_500_30_translated_nllb-200-distilled-600M_embedded_all-MiniLM-L6-v2',\n",
        "#                       embeddings = embeddings)\n",
        "\n",
        "# page_contents_os = db_os.similarity_search('What is Nightwork?', k=10)\n",
        "# page_contents_os_total = []\n",
        "# for i in page_contents_os:\n",
        "#     page_contents_os_total.append(i.page_content)\n",
        "\n",
        "# page_contents_os_total"
      ],
      "metadata": {
        "id": "WEW8hHiCxmSm"
      },
      "execution_count": 17,
      "outputs": []
    },
    {
      "cell_type": "markdown",
      "source": [
        "LLM"
      ],
      "metadata": {
        "id": "D6_ohF9xn5iu"
      }
    },
    {
      "cell_type": "code",
      "source": [
        "from transformers import AutoTokenizer, AutoModelForSeq2SeqLM\n",
        "from transformers import pipeline\n",
        "import torch\n",
        "\n",
        "checkpoint = \"MBZUAI/LaMini-Flan-T5-783M\"\n",
        "tokenizer = AutoTokenizer.from_pretrained(checkpoint)\n",
        "base_model = AutoModelForSeq2SeqLM.from_pretrained(checkpoint,\n",
        "                                             device_map='auto',\n",
        "                                             torch_dtype=torch.float32)\n",
        "\n",
        "pipe = pipeline('text2text-generation',\n",
        "                 model = base_model,\n",
        "                 tokenizer = tokenizer,\n",
        "                 max_length = 1024,\n",
        "                 do_sample=True,\n",
        "                 temperature=0.1,\n",
        "                 top_p=0.95,\n",
        "                 )"
      ],
      "metadata": {
        "id": "DJcVKvtMjOvL"
      },
      "execution_count": 18,
      "outputs": []
    },
    {
      "cell_type": "code",
      "source": [
        "# multiple_input_prompt = PromptTemplate(\n",
        "#     input_variables=[\"Inputs\", \"Question\"],\n",
        "#     template=\"{Inputs} {Question}.\"\n",
        "# )\n",
        "# multiple_input_prompt.format(Inputs=\" \".join(page_contents[1:]), Question=english_questions[11])"
      ],
      "metadata": {
        "id": "aS3cw4ERuPY4"
      },
      "execution_count": 19,
      "outputs": []
    },
    {
      "cell_type": "code",
      "source": [
        "# english_questions[0]"
      ],
      "metadata": {
        "id": "BpZhS4go7Dpx"
      },
      "execution_count": 20,
      "outputs": []
    },
    {
      "cell_type": "code",
      "source": [
        "# \" \".join(page_contents)"
      ],
      "metadata": {
        "id": "pOpSx79369FG"
      },
      "execution_count": 21,
      "outputs": []
    },
    {
      "cell_type": "code",
      "source": [
        "# %%time\n",
        "# import textwrap\n",
        "# response = ''\n",
        "# instruction = multiple_input_prompt.format(Inputs=\" \".join(page_content), Question=query)\n",
        "\n",
        "# # instruction = multiple_input_prompt.format(Inputs=\" \".join(page_contents), Question=english_questions[0])\n",
        "# generated_text = pipe(instruction)\n",
        "# for text in generated_text:\n",
        "#   response += text['generated_text']\n",
        "# wrapped_text = textwrap.fill(response, width=1200)\n",
        "# print(wrapped_text)\n",
        "\n"
      ],
      "metadata": {
        "id": "_lCh0CfejOp-"
      },
      "execution_count": 22,
      "outputs": []
    },
    {
      "cell_type": "code",
      "source": [
        "# input_prompt = multiple_input_prompt.format(Inputs=\" \".join(page_content), Question=query)\n",
        "# print(input_prompt)"
      ],
      "metadata": {
        "id": "aZ0Pos3Cugrw"
      },
      "execution_count": 23,
      "outputs": []
    },
    {
      "cell_type": "code",
      "source": [
        "def llm_cpu(prompt):\n",
        "    response = ''\n",
        "    instruction = prompt\n",
        "\n",
        "    # instruction = multiple_input_prompt.format(Inputs=\" \".join(page_contents), Question=english_questions[0])\n",
        "    generated_text = pipe(instruction)\n",
        "    for text in generated_text:\n",
        "        response += text['generated_text']\n",
        "    wrapped_text = textwrap.fill(response, width=1200)\n",
        "    print(wrapped_text)\n",
        "    return wrapped_text"
      ],
      "metadata": {
        "id": "T26zANu47R4-"
      },
      "execution_count": 24,
      "outputs": []
    },
    {
      "cell_type": "code",
      "source": [
        "# llm_cpu(input_prompt)"
      ],
      "metadata": {
        "id": "9Jg18tHt9hPB"
      },
      "execution_count": 25,
      "outputs": []
    },
    {
      "cell_type": "code",
      "source": [
        "total_contents = []\n",
        "total_metadatas = []\n",
        "answers = []\n",
        "for i in range(len(questions_df)):\n",
        "    page_contents , metadatas = sim_results(questions_df['english_questions'][i], k = 10)\n",
        "    total_contents.append(page_contents)\n",
        "    total_metadatas.append(metadatas)\n",
        "    input_prompt = multiple_input_prompt.format(Inputs=\" \".join(page_contents), Question=questions_df['english_questions'][i])\n",
        "    answers.append(llm_cpu(input_prompt))"
      ],
      "metadata": {
        "colab": {
          "base_uri": "https://localhost:8080/"
        },
        "id": "_gEspUtyeCw9",
        "outputId": "4b62bc4c-92c5-47ab-d533-ce4d2cdbdb47"
      },
      "execution_count": 26,
      "outputs": [
        {
          "output_type": "stream",
          "name": "stdout",
          "text": [
            "Yes.\n",
            "The procedure of dissolution of the contract by the employer is to make a written declaration of dissolution and make the reason for the dissolution clear and clear. The employer must also make sure that the notice of dissolution is provided to the employee.\n",
            "The compensation for the worker when the right to dissolution has been misused by the employer is immediately dismissed by the employer or journalist to the other side. The amount of compensation which corresponds to the amount of notice period in writing, has been immediately dismissed by the employer or journalist to the other side. The last journalist will receive compensation for a month's salary each year for each year or so of the service year or change of the contract, which has been reported to be dissolution. The employer has the right to ask for compensation for the damage he suffered.\n",
            "The fundamental change in working conditions is the ability to work in a certain capacity. The employer can make this change by relying on a valid reason for the competence or behavior of the worker or the business, the workplace or the needs of the work. If the worker does not accept the amendment proposal, the employer can terminate the contract of employment by explaining in writing that the change is based on a valid reason or that there is another valid reason for the annulment and following the notice period.\n"
          ]
        },
        {
          "output_type": "stream",
          "name": "stderr",
          "text": [
            "Token indices sequence length is longer than the specified maximum sequence length for this model (591 > 512). Running this sequence through the model will result in indexing errors\n"
          ]
        },
        {
          "output_type": "stream",
          "name": "stdout",
          "text": [
            "No.\n",
            "The notice was made to the other side six weeks after the notice was made to the worker.\n",
            "The answer is: The answer is not provided in the given text.\n",
            "Yes.\n",
            "The wages and other rights of a part-time worker are reserved for working days.\n",
            "The temporary employer should declare business accidents and occupational health notifications to the employment office immediately under the 13th and 14th Articles of Social Insurance and General Health Insurance Act 31/5/2006.\n",
            "The employer must report the employment situation to the Employment Regional Directorate by the end of the month, when the latest work is completed by the institutional document.\n",
            "Yes.\n",
            "Yes.\n",
            "Mails are arranged to replace each other by working day-to-day during the second week of work that comes at the most in a work week at night.\n",
            "Yes.\n",
            "Yes.\n",
            "Yes.\n",
            "Women's employees can not be employed in the night mail for a year or so, until they are born with the doctor's report that they are pregnant.\n",
            "Yes.\n",
            "Yes.\n"
          ]
        }
      ]
    },
    {
      "cell_type": "code",
      "source": [
        "answer_set_1 = pd.DataFrame({'answers': [answers]})\n",
        "answer_set_1.to_csv('./answer_set_3')"
      ],
      "metadata": {
        "id": "t9JIMIuBetGq"
      },
      "execution_count": 27,
      "outputs": []
    },
    {
      "cell_type": "code",
      "source": [],
      "metadata": {
        "id": "DlUN-iwkfdTZ"
      },
      "execution_count": 27,
      "outputs": []
    }
  ]
}