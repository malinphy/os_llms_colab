{
  "cells": [
    {
      "cell_type": "markdown",
      "metadata": {
        "id": "view-in-github",
        "colab_type": "text"
      },
      "source": [
        "<a href=\"https://colab.research.google.com/github/malinphy/os_llms_colab/blob/main/LaMini_Flan_T5_783M_CPU.ipynb\" target=\"_parent\"><img src=\"https://colab.research.google.com/assets/colab-badge.svg\" alt=\"Open In Colab\"/></a>"
      ]
    },
    {
      "cell_type": "code",
      "source": [
        "from google.colab import drive\n",
        "drive.mount('/content/drive')"
      ],
      "metadata": {
        "id": "byroD9f1vl6m",
        "outputId": "ad4e223b-0718-410d-d59e-ecd2e31ae5d5",
        "colab": {
          "base_uri": "https://localhost:8080/"
        }
      },
      "execution_count": 1,
      "outputs": [
        {
          "output_type": "stream",
          "name": "stdout",
          "text": [
            "Drive already mounted at /content/drive; to attempt to forcibly remount, call drive.mount(\"/content/drive\", force_remount=True).\n"
          ]
        }
      ]
    },
    {
      "cell_type": "code",
      "source": [
        "import os"
      ],
      "metadata": {
        "id": "KHimag9bvpM7"
      },
      "execution_count": 2,
      "outputs": []
    },
    {
      "cell_type": "code",
      "execution_count": 3,
      "metadata": {
        "colab": {
          "base_uri": "https://localhost:8080/"
        },
        "id": "1VJ7lfTYz0qu",
        "outputId": "99b91c58-6fad-4a90-dd64-0df1cc5acb18"
      },
      "outputs": [
        {
          "output_type": "stream",
          "name": "stdout",
          "text": [
            "Collecting git+https://github.com/huggingface/transformers\n",
            "  Cloning https://github.com/huggingface/transformers to /tmp/pip-req-build-ai4s_sm0\n",
            "  Running command git clone --filter=blob:none --quiet https://github.com/huggingface/transformers /tmp/pip-req-build-ai4s_sm0\n",
            "  Resolved https://github.com/huggingface/transformers to commit 30ed3adf474aaf2972ab56f5624089bc24a6adf3\n",
            "  Installing build dependencies ... \u001b[?25l\u001b[?25hdone\n",
            "  Getting requirements to build wheel ... \u001b[?25l\u001b[?25hdone\n",
            "  Preparing metadata (pyproject.toml) ... \u001b[?25l\u001b[?25hdone\n",
            "Requirement already satisfied: filelock in /usr/local/lib/python3.10/dist-packages (from transformers==4.31.0.dev0) (3.12.2)\n",
            "Requirement already satisfied: huggingface-hub<1.0,>=0.14.1 in /usr/local/lib/python3.10/dist-packages (from transformers==4.31.0.dev0) (0.16.4)\n",
            "Requirement already satisfied: numpy>=1.17 in /usr/local/lib/python3.10/dist-packages (from transformers==4.31.0.dev0) (1.22.4)\n",
            "Requirement already satisfied: packaging>=20.0 in /usr/local/lib/python3.10/dist-packages (from transformers==4.31.0.dev0) (23.1)\n",
            "Requirement already satisfied: pyyaml>=5.1 in /usr/local/lib/python3.10/dist-packages (from transformers==4.31.0.dev0) (6.0)\n",
            "Requirement already satisfied: regex!=2019.12.17 in /usr/local/lib/python3.10/dist-packages (from transformers==4.31.0.dev0) (2022.10.31)\n",
            "Requirement already satisfied: requests in /usr/local/lib/python3.10/dist-packages (from transformers==4.31.0.dev0) (2.31.0)\n",
            "Requirement already satisfied: tokenizers!=0.11.3,<0.14,>=0.11.1 in /usr/local/lib/python3.10/dist-packages (from transformers==4.31.0.dev0) (0.13.3)\n",
            "Requirement already satisfied: safetensors>=0.3.1 in /usr/local/lib/python3.10/dist-packages (from transformers==4.31.0.dev0) (0.3.1)\n",
            "Requirement already satisfied: tqdm>=4.27 in /usr/local/lib/python3.10/dist-packages (from transformers==4.31.0.dev0) (4.65.0)\n",
            "Requirement already satisfied: fsspec in /usr/local/lib/python3.10/dist-packages (from huggingface-hub<1.0,>=0.14.1->transformers==4.31.0.dev0) (2023.6.0)\n",
            "Requirement already satisfied: typing-extensions>=3.7.4.3 in /usr/local/lib/python3.10/dist-packages (from huggingface-hub<1.0,>=0.14.1->transformers==4.31.0.dev0) (4.6.3)\n",
            "Requirement already satisfied: charset-normalizer<4,>=2 in /usr/local/lib/python3.10/dist-packages (from requests->transformers==4.31.0.dev0) (2.0.12)\n",
            "Requirement already satisfied: idna<4,>=2.5 in /usr/local/lib/python3.10/dist-packages (from requests->transformers==4.31.0.dev0) (3.4)\n",
            "Requirement already satisfied: urllib3<3,>=1.21.1 in /usr/local/lib/python3.10/dist-packages (from requests->transformers==4.31.0.dev0) (1.26.16)\n",
            "Requirement already satisfied: certifi>=2017.4.17 in /usr/local/lib/python3.10/dist-packages (from requests->transformers==4.31.0.dev0) (2023.5.7)\n",
            "Requirement already satisfied: requests in /usr/local/lib/python3.10/dist-packages (2.31.0)\n",
            "Requirement already satisfied: torch in /usr/local/lib/python3.10/dist-packages (2.0.1+cu118)\n",
            "Requirement already satisfied: einops in /usr/local/lib/python3.10/dist-packages (0.6.1)\n",
            "Requirement already satisfied: accelerate in /usr/local/lib/python3.10/dist-packages (0.20.3)\n",
            "Requirement already satisfied: bitsandbytes in /usr/local/lib/python3.10/dist-packages (0.39.1)\n",
            "Requirement already satisfied: charset-normalizer<4,>=2 in /usr/local/lib/python3.10/dist-packages (from requests) (2.0.12)\n",
            "Requirement already satisfied: idna<4,>=2.5 in /usr/local/lib/python3.10/dist-packages (from requests) (3.4)\n",
            "Requirement already satisfied: urllib3<3,>=1.21.1 in /usr/local/lib/python3.10/dist-packages (from requests) (1.26.16)\n",
            "Requirement already satisfied: certifi>=2017.4.17 in /usr/local/lib/python3.10/dist-packages (from requests) (2023.5.7)\n",
            "Requirement already satisfied: filelock in /usr/local/lib/python3.10/dist-packages (from torch) (3.12.2)\n",
            "Requirement already satisfied: typing-extensions in /usr/local/lib/python3.10/dist-packages (from torch) (4.6.3)\n",
            "Requirement already satisfied: sympy in /usr/local/lib/python3.10/dist-packages (from torch) (1.11.1)\n",
            "Requirement already satisfied: networkx in /usr/local/lib/python3.10/dist-packages (from torch) (3.1)\n",
            "Requirement already satisfied: jinja2 in /usr/local/lib/python3.10/dist-packages (from torch) (3.1.2)\n",
            "Requirement already satisfied: triton==2.0.0 in /usr/local/lib/python3.10/dist-packages (from torch) (2.0.0)\n",
            "Requirement already satisfied: cmake in /usr/local/lib/python3.10/dist-packages (from triton==2.0.0->torch) (3.25.2)\n",
            "Requirement already satisfied: lit in /usr/local/lib/python3.10/dist-packages (from triton==2.0.0->torch) (16.0.6)\n",
            "Requirement already satisfied: numpy>=1.17 in /usr/local/lib/python3.10/dist-packages (from accelerate) (1.22.4)\n",
            "Requirement already satisfied: packaging>=20.0 in /usr/local/lib/python3.10/dist-packages (from accelerate) (23.1)\n",
            "Requirement already satisfied: psutil in /usr/local/lib/python3.10/dist-packages (from accelerate) (5.9.5)\n",
            "Requirement already satisfied: pyyaml in /usr/local/lib/python3.10/dist-packages (from accelerate) (6.0)\n",
            "Requirement already satisfied: MarkupSafe>=2.0 in /usr/local/lib/python3.10/dist-packages (from jinja2->torch) (2.1.3)\n",
            "Requirement already satisfied: mpmath>=0.19 in /usr/local/lib/python3.10/dist-packages (from sympy->torch) (1.3.0)\n"
          ]
        }
      ],
      "source": [
        "!pip install git+https://github.com/huggingface/transformers\n",
        "!pip install --upgrade requests torch einops accelerate bitsandbytes\n",
        "!pip install faiss-cpu -q\n",
        "!pip install langchain -q\n",
        "!pip install sentence-transformers -q"
      ]
    },
    {
      "cell_type": "code",
      "source": [
        "os.listdir('drive/MyDrive/QQ_PROJECTS/turkish_pro_OS/data/data/vector_stores')"
      ],
      "metadata": {
        "id": "WGpw48JPwGk9",
        "outputId": "a6c5fd74-3124-4544-b465-b5e78be3a14f",
        "colab": {
          "base_uri": "https://localhost:8080/"
        }
      },
      "execution_count": 4,
      "outputs": [
        {
          "output_type": "execute_result",
          "data": {
            "text/plain": [
              "['sentence_transformers_clip_ViT_B_32_multilingual_v1',\n",
              " 'cohere_multilingual',\n",
              " 'faiss_index_OpenAI_pdfs_MC_500_30',\n",
              " 'emrecan_bert_base_turkish_cased_mean_nli_stsb_tr',\n",
              " 'muse_3',\n",
              " 'faiss_index_MCdocs_en_500_30_translated_nllb-200-distilled-600M_embedded_all-MiniLM-L6-v2']"
            ]
          },
          "metadata": {},
          "execution_count": 4
        }
      ]
    },
    {
      "cell_type": "code",
      "source": [
        "from langchain.vectorstores import FAISS\n",
        "from langchain.embeddings import HuggingFaceEmbeddings"
      ],
      "metadata": {
        "id": "Ppra1t1Owwsq"
      },
      "execution_count": 5,
      "outputs": []
    },
    {
      "cell_type": "code",
      "source": [
        "embeddings = HuggingFaceEmbeddings(model_name=\"all-MiniLM-L6-v2\")"
      ],
      "metadata": {
        "id": "eRxTikrAxCE5"
      },
      "execution_count": 6,
      "outputs": []
    },
    {
      "cell_type": "code",
      "source": [
        "db = FAISS.load_local('drive/MyDrive/QQ_PROJECTS/turkish_pro_OS/data/data/vector_stores/faiss_index_MCdocs_en_500_30_translated_nllb-200-distilled-600M_embedded_all-MiniLM-L6-v2',\n",
        "                      embeddings = embeddings)"
      ],
      "metadata": {
        "id": "bBTv2VFYxCCg"
      },
      "execution_count": 7,
      "outputs": []
    },
    {
      "cell_type": "code",
      "source": [
        "query = '''What is the procedure for termination of the employer's contract?'''"
      ],
      "metadata": {
        "id": "QPIpSJabxB_4"
      },
      "execution_count": 8,
      "outputs": []
    },
    {
      "cell_type": "code",
      "source": [
        "x = db.similarity_search(query,k=4)\n",
        "for i in x:\n",
        "    print(i.page_content)"
      ],
      "metadata": {
        "id": "dettVQA4xB9Y",
        "outputId": "b9bb4613-6bdf-4e13-b847-050435c28060",
        "colab": {
          "base_uri": "https://localhost:8080/"
        }
      },
      "execution_count": 9,
      "outputs": [
        {
          "output_type": "stream",
          "name": "stdout",
          "text": [
            "The employee may terminate the employment contract by giving a written explanation of the existence of another valid reason for termination and by complying with the notice period. In this case, the employee may bring proceedings under articles 17 to 21. The parties may always change the working conditions by agreement between them. The change in working conditions cannot be effectively enforced in the past.\n",
            "for the employee who has been employed for more than three years, eight weeks after the notice is deemed to be terminated. These periods are minimized and may be increased by contracts. The party who does not comply with the notice requirement must pay compensation in the amount of the notice period. 8429 The employer may terminate the employment contract by paying the notice period's remuneration in advance.\n",
            "the worker's wages shall not be paid within the period required to be expected for the termination of the employment contract. However, the provisions of the special laws in this regard shall be reserved. During this period, the termination of the employment contract shall be notified by the employer or the employee on the basis of another reason arising from the Law, even if the other party has been informed of the termination of the employment contract\n",
            "(a) the right of the worker to terminate the employment contract without notice to the employer in cases such as sickness, accident, childbirth and pregnancy, except for the reasons set out in subsection b) the stated conditions arise after six weeks after the notice periods in article 17 have been exceeded in accordance with the period of work of the worker at work.\n"
          ]
        }
      ]
    },
    {
      "cell_type": "markdown",
      "metadata": {
        "id": "zfjJCIE5JjVI"
      },
      "source": [
        "# LaMini-Flan-T5-783M"
      ]
    },
    {
      "cell_type": "code",
      "execution_count": 10,
      "metadata": {
        "id": "NqPrEjYDGuUt"
      },
      "outputs": [],
      "source": [
        "from transformers import AutoTokenizer, AutoModelForSeq2SeqLM\n",
        "from transformers import pipeline\n",
        "import torch\n",
        "\n",
        "checkpoint = \"MBZUAI/LaMini-Flan-T5-783M\"\n",
        "\n",
        "\n",
        "\n",
        "tokenizer = AutoTokenizer.from_pretrained(checkpoint)\n",
        "base_model = AutoModelForSeq2SeqLM.from_pretrained(checkpoint,\n",
        "                                             device_map='auto',\n",
        "                                             torch_dtype=torch.float32)\n",
        "\n",
        "pipe = pipeline('text2text-generation',\n",
        "                 model = base_model,\n",
        "                 tokenizer = tokenizer,\n",
        "                 max_length = 1024,\n",
        "                 do_sample=True,\n",
        "                 temperature=0.3,\n",
        "                 top_p=0.95,\n",
        "                 )\n"
      ]
    },
    {
      "cell_type": "code",
      "execution_count": 11,
      "metadata": {
        "colab": {
          "base_uri": "https://localhost:8080/"
        },
        "id": "13rJgpny7etl",
        "outputId": "ff39ac76-237c-46a6-97fb-6581b14f5d4b"
      },
      "outputs": [
        {
          "output_type": "stream",
          "name": "stdout",
          "text": [
            "/bin/bash: nvidia-smi: command not found\n"
          ]
        }
      ],
      "source": [
        "!nvidia-smi"
      ]
    },
    {
      "cell_type": "markdown",
      "metadata": {
        "id": "hMk-EFQ97skC"
      },
      "source": [
        "# Try Your Prompts"
      ]
    },
    {
      "cell_type": "code",
      "source": [
        "# x = Rishi Sunak (born 12 May 1980) is a British politician serving as Prime Minister of the United Kingdom and\n",
        "#                 Leader of the Conservative Party since 2022. He previously held two cabinet positions under Boris Johnson,\n",
        "#                 lastly as Chancellor of the Exchequer from 2020 to 2022.\n",
        "#                 Sunak has been the Member of Parliament (MP) for\n",
        "#                 Richmond (Yorks) since 2015. He is the first British Asian and Hindu to hold the office of prime minister.\n",
        "#                 Sunak was born in Southampton to parents of Indian descent who immigrated to Britain from East Africa in the 1960s.\n",
        "#                 He was educated at Winchester College, studied philosophy, politics and economics at Lincoln College, Oxford,\n",
        "#                 and earned an MBA from Stanford University in California as a Fulbright Scholar.\n",
        "#                 During his time at Oxford University, Sunak undertook an internship at Conservative Central Office, and\n",
        "#                 joined the Conservative Party. After graduating, Sunak worked for Goldman Sachs\n",
        "#                 and later as a partner at the hedge fund firms The Children's Investment Fund Management and Theleme Partners.\n",
        "#                 Sunak was elected to the House of Commons for Richmond in North Yorkshire at the 2015 general election. As a\n",
        "#                 backbencher, Sunak supported the successful campaign for Brexit in the 2016 European Union (EU) membership referendum.\n",
        "#                 Following the 2017 general election, Sunak was appointed to a junior ministerial position in Theresa May's second\n",
        "#                 government as Parliamentary Under-Secretary of State for Local Government in the 2018 cabinet reshuffle.\n",
        "#                 He voted three times in favour of May's Brexit withdrawal agreement, which was rejected by Parliament three times,\n",
        "#                 leading to May announcing her resignation. During the 2019 Conservative Party leadership election,\n",
        "#                 Sunak supported Johnson's successful bid to succeed May as Conservative leader and  prime minister, after which he\n",
        "#                 appointed Sunak as Chief Secretary to the Treasury in July 2019."
      ],
      "metadata": {
        "id": "8JRsQXfhlSuO"
      },
      "execution_count": 12,
      "outputs": []
    },
    {
      "cell_type": "code",
      "execution_count": 17,
      "metadata": {
        "colab": {
          "base_uri": "https://localhost:8080/"
        },
        "id": "6qHrby3n0109",
        "outputId": "b2ad6574-e505-4b3e-f633-d9739ded4642"
      },
      "outputs": [
        {
          "output_type": "stream",
          "name": "stdout",
          "text": [
            "The procedure for termination of the employer's contract is to pay the notice period's remuneration in advance, and the employee may bring proceedings under articles 17 to 21 if they do not comply with the notice requirement. However, the provisions of the special laws in this regard shall be reserved.\n",
            "CPU times: user 23.6 s, sys: 84.8 ms, total: 23.7 s\n",
            "Wall time: 35.3 s\n"
          ]
        }
      ],
      "source": [
        "%%time\n",
        "import textwrap\n",
        "response = ''\n",
        "instruction = '''\n",
        "            The employee may terminate the employment contract by giving a written explanation of the existence of another valid reason for\n",
        "            termination and by complying with the notice period. In this case, the employee may bring proceedings under articles 17 to 21.\n",
        "            The parties may always change the working conditions by agreement between them. The change in working conditions cannot be effectively\n",
        "             enforced in the past.\n",
        "            for the employee who has been employed for more than three years, eight weeks after the notice is deemed to be terminated.\n",
        "            These periods are minimized and may be increased by contracts. The party who does not comply with the notice requirement must\n",
        "            pay compensation in the amount of the notice period. 8429 The employer may terminate the employment contract by paying the\n",
        "            notice period's remuneration in advance.\n",
        "            the worker's wages shall not be paid within the period required to be expected for the termination of the employment contract.\n",
        "            However, the provisions of the special laws in this regard shall be reserved. During this period, the termination of the employment\n",
        "            contract shall be notified by the employer or the employee on the basis of another reason arising from the Law, even if the other\n",
        "            party has been informed of the termination of the employment contract\n",
        "            (a) the right of the worker to terminate the employment contract without notice to the employer in cases such as sickness,\n",
        "            accident, childbirth and pregnancy, except for the reasons set out in subsection b) the stated conditions arise after six weeks\n",
        "            after the notice periods in article 17 have been exceeded in accordance with the period of work of the worker at work.\n",
        "\n",
        "            What is the procedure for termination of the employer's contract?\n",
        "                '''\n",
        "generated_text = pipe(instruction)\n",
        "for text in generated_text:\n",
        "  response += text['generated_text']\n",
        "wrapped_text = textwrap.fill(response, width=1024)\n",
        "print(wrapped_text)"
      ]
    },
    {
      "cell_type": "code",
      "source": [
        "%%%"
      ],
      "metadata": {
        "id": "LXSaltHty41L",
        "outputId": "d02e9924-7fa2-4c1d-f5a6-e44bebe1d837",
        "colab": {
          "base_uri": "https://localhost:8080/"
        }
      },
      "execution_count": 14,
      "outputs": [
        {
          "output_type": "execute_result",
          "data": {
            "text/plain": [
              "[Document(page_content='The employee may terminate the employment contract by giving a written explanation of the existence of another valid reason for termination and by complying with the notice period. In this case, the employee may bring proceedings under articles 17 to 21. The parties may always change the working conditions by agreement between them. The change in working conditions cannot be effectively enforced in the past.', metadata={'source': 'c:\\\\Users\\\\orhan\\\\PycharmProjects\\\\langchain-tproject\\\\MCdocs\\\\kanunlar\\\\is_kanunu_calısma_2.pdf', 'file_path': 'c:\\\\Users\\\\orhan\\\\PycharmProjects\\\\langchain-tproject\\\\MCdocs\\\\kanunlar\\\\is_kanunu_calısma_2.pdf', 'page': 13, 'total_pages': 14, 'Author': 'Hp', 'Creator': 'Microsoft® Word 2010', 'CreationDate': \"D:20230529140149+03'00'\", 'ModDate': \"D:20230529140149+03'00'\", 'Producer': 'Microsoft® Word 2010'}),\n",
              " Document(page_content=\"for the employee who has been employed for more than three years, eight weeks after the notice is deemed to be terminated. These periods are minimized and may be increased by contracts. The party who does not comply with the notice requirement must pay compensation in the amount of the notice period. 8429 The employer may terminate the employment contract by paying the notice period's remuneration in advance.\", metadata={'source': 'c:\\\\Users\\\\orhan\\\\PycharmProjects\\\\langchain-tproject\\\\MCdocs\\\\kanunlar\\\\is_kanunu_calısma_2.pdf', 'file_path': 'c:\\\\Users\\\\orhan\\\\PycharmProjects\\\\langchain-tproject\\\\MCdocs\\\\kanunlar\\\\is_kanunu_calısma_2.pdf', 'page': 10, 'total_pages': 14, 'Author': 'Hp', 'Creator': 'Microsoft® Word 2010', 'CreationDate': \"D:20230529140149+03'00'\", 'ModDate': \"D:20230529140149+03'00'\", 'Producer': 'Microsoft® Word 2010'}),\n",
              " Document(page_content=\"the worker's wages shall not be paid within the period required to be expected for the termination of the employment contract. However, the provisions of the special laws in this regard shall be reserved. During this period, the termination of the employment contract shall be notified by the employer or the employee on the basis of another reason arising from the Law, even if the other party has been informed of the termination of the employment contract\", metadata={'source': 'c:\\\\Users\\\\orhan\\\\PycharmProjects\\\\langchain-tproject\\\\MCdocs\\\\kanunlar\\\\4857_is_Kanunu.pdf', 'file_path': 'c:\\\\Users\\\\orhan\\\\PycharmProjects\\\\langchain-tproject\\\\MCdocs\\\\kanunlar\\\\4857_is_Kanunu.pdf', 'page': 21, 'total_pages': 48, 'Title': 'TÜRKİYE BÜYÜK MİLLET MECLİSİ', 'Author': 'BIM', 'Creator': 'Microsoft® Word 2013', 'CreationDate': \"D:20210430102420+03'00'\", 'ModDate': \"D:20210430102420+03'00'\", 'Producer': 'Microsoft® Word 2013'}),\n",
              " Document(page_content='(a) the right of the worker to terminate the employment contract without notice to the employer in cases such as sickness, accident, childbirth and pregnancy, except for the reasons set out in subsection b) the stated conditions arise after six weeks after the notice periods in article 17 have been exceeded in accordance with the period of work of the worker at work.', metadata={'source': 'c:\\\\Users\\\\orhan\\\\PycharmProjects\\\\langchain-tproject\\\\MCdocs\\\\kanunlar\\\\4857_is_Kanunu.pdf', 'file_path': 'c:\\\\Users\\\\orhan\\\\PycharmProjects\\\\langchain-tproject\\\\MCdocs\\\\kanunlar\\\\4857_is_Kanunu.pdf', 'page': 16, 'total_pages': 48, 'Title': 'TÜRKİYE BÜYÜK MİLLET MECLİSİ', 'Author': 'BIM', 'Creator': 'Microsoft® Word 2013', 'CreationDate': \"D:20210430102420+03'00'\", 'ModDate': \"D:20210430102420+03'00'\", 'Producer': 'Microsoft® Word 2013'})]"
            ]
          },
          "metadata": {},
          "execution_count": 14
        }
      ]
    },
    {
      "cell_type": "code",
      "source": [
        "len('Rishi Sunak is a British politician who is currently serving as the Prime Minister of the United Kingdom. He was born on May 12, 1980, in Southampton to parents of Indian descent who immigrated to Britain from East Africa in the 1960s. Sunak was educated at Winchester College, studied philosophy, politics, and economics at Lincoln College, Oxford, and earned an MBA from Stanford University in California as a Fulbright Scholar. He was elected to the House of Commons for Richmond in North Yorkshire at the 2015 general election and has been the Member of Parliament (MP) for Richmond since 2015. Sunak supported')"
      ],
      "metadata": {
        "colab": {
          "base_uri": "https://localhost:8080/"
        },
        "id": "D-K_KoUWVNuE",
        "outputId": "68ea69d9-b1a1-48d0-d4b9-43c23498bd3b"
      },
      "execution_count": 15,
      "outputs": [
        {
          "output_type": "execute_result",
          "data": {
            "text/plain": [
              "614"
            ]
          },
          "metadata": {},
          "execution_count": 15
        }
      ]
    },
    {
      "cell_type": "code",
      "execution_count": 16,
      "metadata": {
        "colab": {
          "base_uri": "https://localhost:8080/"
        },
        "id": "yxtk83DVyR48",
        "outputId": "fe33408d-f8ab-4dce-8cfc-20efef6ed618"
      },
      "outputs": [
        {
          "output_type": "stream",
          "name": "stdout",
          "text": [
            "Rishi Sunak has been the prime minister since October 25th.\n",
            "CPU times: user 3.69 s, sys: 10.5 ms, total: 3.7 s\n",
            "Wall time: 3.74 s\n"
          ]
        }
      ],
      "source": [
        "%%time\n",
        "import textwrap\n",
        "response = ''\n",
        "instruction = '''\n",
        "\n",
        "                Rishi Sunak has ben the prme minister since 25 Octo.\n",
        "\n",
        "                Correct the given sentence?\n",
        "                '''\n",
        "generated_text = pipe(instruction)\n",
        "for text in generated_text:\n",
        "  response += text['generated_text']\n",
        "wrapped_text = textwrap.fill(response, width=240)\n",
        "print(wrapped_text)"
      ]
    },
    {
      "cell_type": "code",
      "source": [],
      "metadata": {
        "id": "_OWnsqE5miNy"
      },
      "execution_count": 16,
      "outputs": []
    }
  ],
  "metadata": {
    "colab": {
      "provenance": [],
      "gpuClass": "premium",
      "include_colab_link": true
    },
    "gpuClass": "premium",
    "kernelspec": {
      "display_name": "Python 3",
      "name": "python3"
    },
    "language_info": {
      "name": "python"
    }
  },
  "nbformat": 4,
  "nbformat_minor": 0
}