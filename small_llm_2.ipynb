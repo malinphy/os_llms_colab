{
  "nbformat": 4,
  "nbformat_minor": 0,
  "metadata": {
    "colab": {
      "provenance": [],
      "include_colab_link": true
    },
    "kernelspec": {
      "display_name": "Python 3",
      "name": "python3"
    }
  },
  "cells": [
    {
      "cell_type": "markdown",
      "metadata": {
        "id": "view-in-github",
        "colab_type": "text"
      },
      "source": [
        "<a href=\"https://colab.research.google.com/github/malinphy/os_llms_colab/blob/main/small_llm_2.ipynb\" target=\"_parent\"><img src=\"https://colab.research.google.com/assets/colab-badge.svg\" alt=\"Open In Colab\"/></a>"
      ]
    },
    {
      "cell_type": "code",
      "source": [
        "from google.colab import drive\n",
        "drive.mount('/content/drive')"
      ],
      "metadata": {
        "id": "eaQrcwTkkH39",
        "outputId": "cd91a8fd-3f43-41cb-e1a6-a435a3fb5d29",
        "colab": {
          "base_uri": "https://localhost:8080/"
        }
      },
      "execution_count": 1,
      "outputs": [
        {
          "output_type": "stream",
          "name": "stdout",
          "text": [
            "Drive already mounted at /content/drive; to attempt to forcibly remount, call drive.mount(\"/content/drive\", force_remount=True).\n"
          ]
        }
      ]
    },
    {
      "cell_type": "code",
      "metadata": {
        "id": "Lj6cbR0JBTCP",
        "outputId": "c5226a2f-e494-40d4-b1a3-8fbf67d86101",
        "colab": {
          "base_uri": "https://localhost:8080/"
        }
      },
      "source": [
        "!pip install git+https://github.com/huggingface/transformers\n",
        "!pip install --upgrade requests torch einops accelerate bitsandbytes\n",
        "!pip install faiss-cpu -q\n",
        "!pip install langchain -q\n",
        "!pip install sentence-transformers -q"
      ],
      "execution_count": 2,
      "outputs": [
        {
          "output_type": "stream",
          "name": "stdout",
          "text": [
            "Collecting git+https://github.com/huggingface/transformers\n",
            "  Cloning https://github.com/huggingface/transformers to /tmp/pip-req-build-58wyvoxq\n",
            "  Running command git clone --filter=blob:none --quiet https://github.com/huggingface/transformers /tmp/pip-req-build-58wyvoxq\n",
            "  Resolved https://github.com/huggingface/transformers to commit 35eac0df75c692c5b93c12f7eaf3279cab8bd7ce\n",
            "  Installing build dependencies ... \u001b[?25l\u001b[?25hdone\n",
            "  Getting requirements to build wheel ... \u001b[?25l\u001b[?25hdone\n",
            "  Preparing metadata (pyproject.toml) ... \u001b[?25l\u001b[?25hdone\n",
            "Requirement already satisfied: filelock in /usr/local/lib/python3.10/dist-packages (from transformers==4.31.0.dev0) (3.12.2)\n",
            "Requirement already satisfied: huggingface-hub<1.0,>=0.14.1 in /usr/local/lib/python3.10/dist-packages (from transformers==4.31.0.dev0) (0.16.4)\n",
            "Requirement already satisfied: numpy>=1.17 in /usr/local/lib/python3.10/dist-packages (from transformers==4.31.0.dev0) (1.22.4)\n",
            "Requirement already satisfied: packaging>=20.0 in /usr/local/lib/python3.10/dist-packages (from transformers==4.31.0.dev0) (23.1)\n",
            "Requirement already satisfied: pyyaml>=5.1 in /usr/local/lib/python3.10/dist-packages (from transformers==4.31.0.dev0) (6.0)\n",
            "Requirement already satisfied: regex!=2019.12.17 in /usr/local/lib/python3.10/dist-packages (from transformers==4.31.0.dev0) (2022.10.31)\n",
            "Requirement already satisfied: requests in /usr/local/lib/python3.10/dist-packages (from transformers==4.31.0.dev0) (2.31.0)\n",
            "Requirement already satisfied: tokenizers!=0.11.3,<0.14,>=0.11.1 in /usr/local/lib/python3.10/dist-packages (from transformers==4.31.0.dev0) (0.13.3)\n",
            "Requirement already satisfied: safetensors>=0.3.1 in /usr/local/lib/python3.10/dist-packages (from transformers==4.31.0.dev0) (0.3.1)\n",
            "Requirement already satisfied: tqdm>=4.27 in /usr/local/lib/python3.10/dist-packages (from transformers==4.31.0.dev0) (4.65.0)\n",
            "Requirement already satisfied: fsspec in /usr/local/lib/python3.10/dist-packages (from huggingface-hub<1.0,>=0.14.1->transformers==4.31.0.dev0) (2023.6.0)\n",
            "Requirement already satisfied: typing-extensions>=3.7.4.3 in /usr/local/lib/python3.10/dist-packages (from huggingface-hub<1.0,>=0.14.1->transformers==4.31.0.dev0) (4.5.0)\n",
            "Requirement already satisfied: charset-normalizer<4,>=2 in /usr/local/lib/python3.10/dist-packages (from requests->transformers==4.31.0.dev0) (2.0.12)\n",
            "Requirement already satisfied: idna<4,>=2.5 in /usr/local/lib/python3.10/dist-packages (from requests->transformers==4.31.0.dev0) (3.4)\n",
            "Requirement already satisfied: urllib3<3,>=1.21.1 in /usr/local/lib/python3.10/dist-packages (from requests->transformers==4.31.0.dev0) (1.26.16)\n",
            "Requirement already satisfied: certifi>=2017.4.17 in /usr/local/lib/python3.10/dist-packages (from requests->transformers==4.31.0.dev0) (2023.5.7)\n",
            "Requirement already satisfied: requests in /usr/local/lib/python3.10/dist-packages (2.31.0)\n",
            "Requirement already satisfied: torch in /usr/local/lib/python3.10/dist-packages (2.0.1+cu118)\n",
            "Requirement already satisfied: einops in /usr/local/lib/python3.10/dist-packages (0.6.1)\n",
            "Requirement already satisfied: accelerate in /usr/local/lib/python3.10/dist-packages (0.20.3)\n",
            "Requirement already satisfied: bitsandbytes in /usr/local/lib/python3.10/dist-packages (0.40.0.post2)\n",
            "Requirement already satisfied: charset-normalizer<4,>=2 in /usr/local/lib/python3.10/dist-packages (from requests) (2.0.12)\n",
            "Requirement already satisfied: idna<4,>=2.5 in /usr/local/lib/python3.10/dist-packages (from requests) (3.4)\n",
            "Requirement already satisfied: urllib3<3,>=1.21.1 in /usr/local/lib/python3.10/dist-packages (from requests) (1.26.16)\n",
            "Requirement already satisfied: certifi>=2017.4.17 in /usr/local/lib/python3.10/dist-packages (from requests) (2023.5.7)\n",
            "Requirement already satisfied: filelock in /usr/local/lib/python3.10/dist-packages (from torch) (3.12.2)\n",
            "Requirement already satisfied: typing-extensions in /usr/local/lib/python3.10/dist-packages (from torch) (4.5.0)\n",
            "Requirement already satisfied: sympy in /usr/local/lib/python3.10/dist-packages (from torch) (1.11.1)\n",
            "Requirement already satisfied: networkx in /usr/local/lib/python3.10/dist-packages (from torch) (3.1)\n",
            "Requirement already satisfied: jinja2 in /usr/local/lib/python3.10/dist-packages (from torch) (3.1.2)\n",
            "Requirement already satisfied: triton==2.0.0 in /usr/local/lib/python3.10/dist-packages (from torch) (2.0.0)\n",
            "Requirement already satisfied: cmake in /usr/local/lib/python3.10/dist-packages (from triton==2.0.0->torch) (3.25.2)\n",
            "Requirement already satisfied: lit in /usr/local/lib/python3.10/dist-packages (from triton==2.0.0->torch) (16.0.6)\n",
            "Requirement already satisfied: numpy>=1.17 in /usr/local/lib/python3.10/dist-packages (from accelerate) (1.22.4)\n",
            "Requirement already satisfied: packaging>=20.0 in /usr/local/lib/python3.10/dist-packages (from accelerate) (23.1)\n",
            "Requirement already satisfied: psutil in /usr/local/lib/python3.10/dist-packages (from accelerate) (5.9.5)\n",
            "Requirement already satisfied: pyyaml in /usr/local/lib/python3.10/dist-packages (from accelerate) (6.0)\n",
            "Requirement already satisfied: MarkupSafe>=2.0 in /usr/local/lib/python3.10/dist-packages (from jinja2->torch) (2.1.3)\n",
            "Requirement already satisfied: mpmath>=0.19 in /usr/local/lib/python3.10/dist-packages (from sympy->torch) (1.3.0)\n"
          ]
        }
      ]
    },
    {
      "cell_type": "code",
      "source": [
        "import os\n",
        "os.listdir('drive/MyDrive/QQ_PROJECTS/turkish_pro_OS/data/data/vector_stores')"
      ],
      "metadata": {
        "id": "G2g93vuyjPDe",
        "outputId": "05d1122a-287a-4874-ac6f-266d88d5fa3e",
        "colab": {
          "base_uri": "https://localhost:8080/"
        }
      },
      "execution_count": 3,
      "outputs": [
        {
          "output_type": "execute_result",
          "data": {
            "text/plain": [
              "['sentence_transformers_clip_ViT_B_32_multilingual_v1',\n",
              " 'cohere_multilingual',\n",
              " 'faiss_index_OpenAI_pdfs_MC_500_30',\n",
              " 'emrecan_bert_base_turkish_cased_mean_nli_stsb_tr',\n",
              " 'muse_3',\n",
              " 'faiss_index_MCdocs_en_500_30_translated_nllb-200-distilled-600M_embedded_all-MiniLM-L6-v2',\n",
              " 'translated_faiss_index_helsinki']"
            ]
          },
          "metadata": {},
          "execution_count": 3
        }
      ]
    },
    {
      "cell_type": "code",
      "source": [
        "from qa import questions\n",
        "from langchain.vectorstores import FAISS\n",
        "from langchain.embeddings import HuggingFaceEmbeddings\n",
        "import pandas as pd\n",
        "import numpy as np\n",
        "from langchain.prompts import PromptTemplate"
      ],
      "metadata": {
        "id": "eQfx_njfjPAr"
      },
      "execution_count": 4,
      "outputs": []
    },
    {
      "cell_type": "code",
      "source": [
        "from transformers import AutoTokenizer, MarianMTModel,AutoModelForSeq2SeqLM\n",
        "from transformers import MarianMTModel, MarianTokenizer\n",
        "# from nltk.tokenize import sent_tokenize\n",
        "tokenizer_eng2tr = AutoTokenizer.from_pretrained(\"Helsinki-NLP/opus-mt-tc-big-en-tr\")\n",
        "model_eng2tr = AutoModelForSeq2SeqLM.from_pretrained(\"Helsinki-NLP/opus-mt-tc-big-en-tr\")"
      ],
      "metadata": {
        "id": "e1Z1IFEAo7sr",
        "outputId": "a86ab7c6-2257-4f74-dff5-2383c829746a",
        "colab": {
          "base_uri": "https://localhost:8080/"
        }
      },
      "execution_count": 5,
      "outputs": [
        {
          "output_type": "stream",
          "name": "stderr",
          "text": [
            "/usr/local/lib/python3.10/dist-packages/transformers/models/marian/tokenization_marian.py:194: UserWarning: Recommended: pip install sacremoses.\n",
            "  warnings.warn(\"Recommended: pip install sacremoses.\")\n"
          ]
        }
      ]
    },
    {
      "cell_type": "code",
      "source": [
        "def tr2eng(input_text):\n",
        "    src = \"tr\"  # source language\n",
        "    trg = \"en\"  # target language\n",
        "    model_name_tr2eng = f\"Helsinki-NLP/opus-mt-{src}-{trg}\"\n",
        "    model_tr2eng = MarianMTModel.from_pretrained(model_name_tr2eng)\n",
        "    tokenizer_tr2eng = AutoTokenizer.from_pretrained(model_name_tr2eng)\n",
        "    batch = tokenizer_tr2eng([input_text], return_tensors=\"pt\")\n",
        "    generated_ids = model_tr2eng.generate(**batch)\n",
        "    eng_text = tokenizer_tr2eng.batch_decode(generated_ids, skip_special_tokens=True)[0]\n",
        "    # print(eng_text)\n",
        "    return eng_text"
      ],
      "metadata": {
        "id": "aZpWvWMZlgAc"
      },
      "execution_count": 6,
      "outputs": []
    },
    {
      "cell_type": "code",
      "source": [
        "def eng2tr(english_text):\n",
        "    model_name = \"Helsinki-NLP/opus-mt-tc-big-en-tr\"\n",
        "    tokenizer_eng2tr = MarianTokenizer.from_pretrained(model_name)\n",
        "    model_eng2tr = MarianMTModel.from_pretrained(model_name)\n",
        "    translated = model_eng2tr.generate(**tokenizer_eng2tr(english_text, return_tensors=\"pt\", padding=True))\n",
        "    decoded = []\n",
        "    for t in translated:\n",
        "        decoded.append(tokenizer_eng2tr.decode(t, skip_special_tokens=True) )\n",
        "\n",
        "    return decoded"
      ],
      "metadata": {
        "id": "-9uDN905lhr1"
      },
      "execution_count": 7,
      "outputs": []
    },
    {
      "cell_type": "code",
      "source": [
        "embeddings = HuggingFaceEmbeddings(model_name=\"all-MiniLM-L6-v2\")\n",
        "db = FAISS.load_local('drive/MyDrive/QQ_PROJECTS/turkish_pro_OS/data/data/vector_stores/translated_faiss_index_helsinki',\n",
        "                      embeddings = embeddings)"
      ],
      "metadata": {
        "id": "6B9PJqSQjO-G"
      },
      "execution_count": 8,
      "outputs": []
    },
    {
      "cell_type": "code",
      "source": [
        "# tr2eng(questions['q1'])"
      ],
      "metadata": {
        "id": "cbIij731jO7T"
      },
      "execution_count": 9,
      "outputs": []
    },
    {
      "cell_type": "code",
      "source": [
        "# english_questions = []\n",
        "# for i in questions:\n",
        "#     # print(i)\n",
        "#     english_questions.append(tr2eng(questions[i]))"
      ],
      "metadata": {
        "id": "wsYzI0sljO4l"
      },
      "execution_count": 10,
      "outputs": []
    },
    {
      "cell_type": "code",
      "source": [
        "# questions['q2']"
      ],
      "metadata": {
        "id": "Hok6krI0w4oL"
      },
      "execution_count": 11,
      "outputs": []
    },
    {
      "cell_type": "code",
      "source": [
        "# for num, i in enumerate(english_questions):\n",
        "#     print(num,i)"
      ],
      "metadata": {
        "id": "4NLlOyR5jO1z"
      },
      "execution_count": 12,
      "outputs": []
    },
    {
      "cell_type": "code",
      "source": [
        "# english_questions[11]"
      ],
      "metadata": {
        "id": "BTASNE_z3DG7"
      },
      "execution_count": 13,
      "outputs": []
    },
    {
      "cell_type": "code",
      "source": [
        "# similarity_results = db.similarity_search(english_questions[11], k = 10)"
      ],
      "metadata": {
        "id": "nOuNDiOBrP1U"
      },
      "execution_count": 14,
      "outputs": []
    },
    {
      "cell_type": "code",
      "source": [
        "# # page_contents = []\n",
        "# for i in similarity_results:\n",
        "#     page_contents.append(i.page_content)"
      ],
      "metadata": {
        "id": "-iST1ElnjOy0"
      },
      "execution_count": 15,
      "outputs": []
    },
    {
      "cell_type": "code",
      "source": [
        "# page_contents"
      ],
      "metadata": {
        "id": "Uuy5ORx9uCEJ"
      },
      "execution_count": 16,
      "outputs": []
    },
    {
      "cell_type": "markdown",
      "source": [
        "## OS results"
      ],
      "metadata": {
        "id": "jYXsXeYCxmh9"
      }
    },
    {
      "cell_type": "code",
      "source": [
        "# db_os = FAISS.load_local('drive/MyDrive/QQ_PROJECTS/turkish_pro_OS/data/data/vector_stores/faiss_index_MCdocs_en_500_30_translated_nllb-200-distilled-600M_embedded_all-MiniLM-L6-v2',\n",
        "#                       embeddings = embeddings)\n",
        "\n",
        "# page_contents_os = db_os.similarity_search('What is Nightwork?', k=10)\n",
        "# page_contents_os_total = []\n",
        "# for i in page_contents_os:\n",
        "#     page_contents_os_total.append(i.page_content)\n",
        "\n",
        "# page_contents_os_total"
      ],
      "metadata": {
        "id": "WEW8hHiCxmSm"
      },
      "execution_count": 17,
      "outputs": []
    },
    {
      "cell_type": "markdown",
      "source": [
        "LLM"
      ],
      "metadata": {
        "id": "D6_ohF9xn5iu"
      }
    },
    {
      "cell_type": "code",
      "source": [
        "from transformers import AutoTokenizer, AutoModelForSeq2SeqLM\n",
        "from transformers import pipeline\n",
        "import torch\n",
        "\n",
        "checkpoint = \"MBZUAI/LaMini-Flan-T5-783M\"\n",
        "tokenizer = AutoTokenizer.from_pretrained(checkpoint)\n",
        "base_model = AutoModelForSeq2SeqLM.from_pretrained(checkpoint,\n",
        "                                             device_map='auto',\n",
        "                                             torch_dtype=torch.float32)\n",
        "\n",
        "pipe = pipeline('text2text-generation',\n",
        "                 model = base_model,\n",
        "                 tokenizer = tokenizer,\n",
        "                 max_length = 1024,\n",
        "                 do_sample=True,\n",
        "                 temperature=0.9,\n",
        "                 top_p=0.95,\n",
        "                 )"
      ],
      "metadata": {
        "id": "DJcVKvtMjOvL"
      },
      "execution_count": 46,
      "outputs": []
    },
    {
      "cell_type": "code",
      "source": [
        "# multiple_input_prompt = PromptTemplate(\n",
        "#     input_variables=[\"Inputs\", \"Question\"],\n",
        "#     template=\"{Inputs} {Question}.\"\n",
        "# )\n",
        "# multiple_input_prompt.format(Inputs=\" \".join(page_contents[1:]), Question=english_questions[11])"
      ],
      "metadata": {
        "id": "aS3cw4ERuPY4"
      },
      "execution_count": 47,
      "outputs": []
    },
    {
      "cell_type": "code",
      "source": [
        "# english_questions[0]"
      ],
      "metadata": {
        "id": "BpZhS4go7Dpx"
      },
      "execution_count": 48,
      "outputs": []
    },
    {
      "cell_type": "code",
      "source": [
        "# \" \".join(page_contents)"
      ],
      "metadata": {
        "id": "pOpSx79369FG"
      },
      "execution_count": 49,
      "outputs": []
    },
    {
      "cell_type": "code",
      "source": [
        "%%time\n",
        "import textwrap\n",
        "response = ''\n",
        "instruction = '''\n",
        "                 Nightlong and nightwork Article 69- In working life, \"night\" is a period of eleven hours at the earliest, starting at 8:00 p.m.\n",
        "                 at the latest. Night work: Article 6 (Default: 17/4/1984-84/7950 K.) The study of a mail that meets more than half of its working\n",
        "                 period is considered a night's work. Nightlong and nightwork Article 69 is a period in the working life where \"night\" starts\n",
        "                 at 8:00 p.m. at the latest, reaching 6:00 p.m. at the earliest, which, in any case, lasts at least 11 hours. If more than half\n",
        "                 of the study corresponds to the night period, it will not only be the study that coincides with the night period, but the whole\n",
        "                 work will be considered a night work, it will be subject to the rules of the night work. Article 69 of Job Law 4857 stated that\n",
        "                 work between 20:00 and 6 p.m. will be considered a night's work. It is important whether a particular part of the study is\n",
        "                 considered a day or a night's work if a specific part of the night is the same as a period of the day's work. Although tourism,\n",
        "                 private security and health care may be predicted to work nights with the written approval of workers over seven and a half hours,\n",
        "                 the work of those workers outside of these workers is estimated to be able to work nights, according to the third joke of the\n",
        "                 same substance, seven and a half hours a day. According to this, studies on the 7.5 hours prior to 04.04.2015 will be considered\n",
        "                 a lot of work, and in the night after 4:04.2015 a.m., if the employee's approval record and the working period is not past 45\n",
        "                 hours per week and the night's work has been completed, the night shift will not be paid to the employees in this sector.\n",
        "\n",
        "                what are Nightlong and nightwork?\n",
        "                 '''\n",
        "\n",
        "# instruction = multiple_input_prompt.format(Inputs=\" \".join(page_contents), Question=english_questions[0])\n",
        "generated_text = pipe(instruction)\n",
        "for text in generated_text:\n",
        "  response += text['generated_text']\n",
        "wrapped_text = textwrap.fill(response, width=1200)\n",
        "print(wrapped_text)\n",
        "\n"
      ],
      "metadata": {
        "id": "_lCh0CfejOp-",
        "outputId": "19f069e8-6084-46e1-e399-e7e6222156b9",
        "colab": {
          "base_uri": "https://localhost:8080/"
        }
      },
      "execution_count": 50,
      "outputs": [
        {
          "output_type": "stream",
          "name": "stdout",
          "text": [
            "Yes.\n",
            "CPU times: user 9.5 s, sys: 10.4 ms, total: 9.51 s\n",
            "Wall time: 10 s\n"
          ]
        }
      ]
    },
    {
      "cell_type": "code",
      "source": [
        "os_res = \" \".join(['WHAT IS THE NIGHT WORKING?',\n",
        " \"THE WORKER'S WORKER'S WORKER'S WORK IS THE WORK OF A MIDDLE WORKER, MORE THAN half OF THE NIGHT'S WORKER'S TIME OF THE NIGHT'S WORKER'S WORK IS THE WORK OF NIGHT'S WORK.\",\n",
        " 'Nightlong and nightwork Article 69- In working life, \"night\" is a period of eleven hours at the earliest, starting at 8:00 p.m. at the latest.',\n",
        " \"Night work: Article 6 (Default: 17/4/1984-84/7950 K.) The study of a mail that meets more than half of its working period is considered a night's work.\",\n",
        " 'Nightlong and nightwork Article 69 is a period in the working life where \"night\" starts at 8:00 p.m. at the latest, reaching 6:00 p.m. at the earliest, which, in any case, lasts at least 11 hours.',\n",
        " 'If more than half of the study corresponds to the night period, it will not only be the study that coincides with the night period, but the whole work will be considered a night work, it will be subject to the rules of the night work.',\n",
        " \"Article 69 of Job Law 4857 stated that work between 20:00 and 6 p.m. will be considered a night's work.\",\n",
        " \"It is important whether a particular part of the study is considered a day or a night's work if a specific part of the night is the same as a period of the day's work.\",\n",
        " 'Although tourism, private security and health care may be predicted to work nights with the written approval of workers over seven and a half hours, the work of those workers outside of these workers is estimated to be able to work nights, according to the third joke of the same substance, seven and a half hours a day.',\n",
        " \"According to this, studies on the 7.5 hours prior to 04.04.2015 will be considered a lot of work, and in the night after 4:04.2015 a.m., if the employee's approval record and the working period is not past 45 hours per week and the night's work has been completed, the night shift will not be paid to the employees in this sector.\"\n",
        " ])"
      ],
      "metadata": {
        "id": "aZ0Pos3Cugrw"
      },
      "execution_count": 35,
      "outputs": []
    },
    {
      "cell_type": "code",
      "source": [
        "os_res"
      ],
      "metadata": {
        "id": "T26zANu47R4-",
        "outputId": "32896c9b-5183-4de8-a61a-cf4ece3a6ff4",
        "colab": {
          "base_uri": "https://localhost:8080/",
          "height": 232
        }
      },
      "execution_count": 36,
      "outputs": [
        {
          "output_type": "execute_result",
          "data": {
            "text/plain": [
              "'WHAT IS THE NIGHT WORKING? THE WORKER\\'S WORKER\\'S WORKER\\'S WORK IS THE WORK OF A MIDDLE WORKER, MORE THAN half OF THE NIGHT\\'S WORKER\\'S TIME OF THE NIGHT\\'S WORKER\\'S WORK IS THE WORK OF NIGHT\\'S WORK. Nightlong and nightwork Article 69- In working life, \"night\" is a period of eleven hours at the earliest, starting at 8:00 p.m. at the latest. Night work: Article 6 (Default: 17/4/1984-84/7950 K.) The study of a mail that meets more than half of its working period is considered a night\\'s work. Nightlong and nightwork Article 69 is a period in the working life where \"night\" starts at 8:00 p.m. at the latest, reaching 6:00 p.m. at the earliest, which, in any case, lasts at least 11 hours. If more than half of the study corresponds to the night period, it will not only be the study that coincides with the night period, but the whole work will be considered a night work, it will be subject to the rules of the night work. Article 69 of Job Law 4857 stated that work between 20:00 and 6 p.m. will be considered a night\\'s work. It is important whether a particular part of the study is considered a day or a night\\'s work if a specific part of the night is the same as a period of the day\\'s work. Although tourism, private security and health care may be predicted to work nights with the written approval of workers over seven and a half hours, the work of those workers outside of these workers is estimated to be able to work nights, according to the third joke of the same substance, seven and a half hours a day. According to this, studies on the 7.5 hours prior to 04.04.2015 will be considered a lot of work, and in the night after 4:04.2015 a.m., if the employee\\'s approval record and the working period is not past 45 hours per week and the night\\'s work has been completed, the night shift will not be paid to the employees in this sector.'"
            ],
            "application/vnd.google.colaboratory.intrinsic+json": {
              "type": "string"
            }
          },
          "metadata": {},
          "execution_count": 36
        }
      ]
    },
    {
      "cell_type": "code",
      "source": [],
      "metadata": {
        "id": "9Jg18tHt9hPB"
      },
      "execution_count": null,
      "outputs": []
    }
  ]
}