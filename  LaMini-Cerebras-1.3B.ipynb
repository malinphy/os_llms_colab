{
  "nbformat": 4,
  "nbformat_minor": 0,
  "metadata": {
    "colab": {
      "provenance": [],
      "include_colab_link": true
    },
    "kernelspec": {
      "display_name": "Python 3",
      "name": "python3"
    },
    "widgets": {
      "application/vnd.jupyter.widget-state+json": {
        "ba666b552a044966b806721494e594f8": {
          "model_module": "@jupyter-widgets/controls",
          "model_name": "HBoxModel",
          "model_module_version": "1.5.0",
          "state": {
            "_dom_classes": [],
            "_model_module": "@jupyter-widgets/controls",
            "_model_module_version": "1.5.0",
            "_model_name": "HBoxModel",
            "_view_count": null,
            "_view_module": "@jupyter-widgets/controls",
            "_view_module_version": "1.5.0",
            "_view_name": "HBoxView",
            "box_style": "",
            "children": [
              "IPY_MODEL_64e8bac993fc4a6683a8fc16fdc58681",
              "IPY_MODEL_31415dca4eb84ad8922d51672211b23a",
              "IPY_MODEL_f7b8f5479c434702b48c9db31ca200c5"
            ],
            "layout": "IPY_MODEL_33f1892dfb6549808d2f6fa994387915"
          }
        },
        "64e8bac993fc4a6683a8fc16fdc58681": {
          "model_module": "@jupyter-widgets/controls",
          "model_name": "HTMLModel",
          "model_module_version": "1.5.0",
          "state": {
            "_dom_classes": [],
            "_model_module": "@jupyter-widgets/controls",
            "_model_module_version": "1.5.0",
            "_model_name": "HTMLModel",
            "_view_count": null,
            "_view_module": "@jupyter-widgets/controls",
            "_view_module_version": "1.5.0",
            "_view_name": "HTMLView",
            "description": "",
            "description_tooltip": null,
            "layout": "IPY_MODEL_7818daf03926441ebd86edb2127bc6ff",
            "placeholder": "​",
            "style": "IPY_MODEL_4404747dc0034dd5a967dbce90073395",
            "value": "Downloading (…)neration_config.json: 100%"
          }
        },
        "31415dca4eb84ad8922d51672211b23a": {
          "model_module": "@jupyter-widgets/controls",
          "model_name": "FloatProgressModel",
          "model_module_version": "1.5.0",
          "state": {
            "_dom_classes": [],
            "_model_module": "@jupyter-widgets/controls",
            "_model_module_version": "1.5.0",
            "_model_name": "FloatProgressModel",
            "_view_count": null,
            "_view_module": "@jupyter-widgets/controls",
            "_view_module_version": "1.5.0",
            "_view_name": "ProgressView",
            "bar_style": "success",
            "description": "",
            "description_tooltip": null,
            "layout": "IPY_MODEL_f672e372ba4349daa1caa69e114d8e86",
            "max": 124,
            "min": 0,
            "orientation": "horizontal",
            "style": "IPY_MODEL_76254b8e77614872954f5af34182cf5e",
            "value": 124
          }
        },
        "f7b8f5479c434702b48c9db31ca200c5": {
          "model_module": "@jupyter-widgets/controls",
          "model_name": "HTMLModel",
          "model_module_version": "1.5.0",
          "state": {
            "_dom_classes": [],
            "_model_module": "@jupyter-widgets/controls",
            "_model_module_version": "1.5.0",
            "_model_name": "HTMLModel",
            "_view_count": null,
            "_view_module": "@jupyter-widgets/controls",
            "_view_module_version": "1.5.0",
            "_view_name": "HTMLView",
            "description": "",
            "description_tooltip": null,
            "layout": "IPY_MODEL_f427e7fcf7e748e68b1d11849bc90d1c",
            "placeholder": "​",
            "style": "IPY_MODEL_6831fb48273648deaa830be71e99a3eb",
            "value": " 124/124 [00:00&lt;00:00, 2.14kB/s]"
          }
        },
        "33f1892dfb6549808d2f6fa994387915": {
          "model_module": "@jupyter-widgets/base",
          "model_name": "LayoutModel",
          "model_module_version": "1.2.0",
          "state": {
            "_model_module": "@jupyter-widgets/base",
            "_model_module_version": "1.2.0",
            "_model_name": "LayoutModel",
            "_view_count": null,
            "_view_module": "@jupyter-widgets/base",
            "_view_module_version": "1.2.0",
            "_view_name": "LayoutView",
            "align_content": null,
            "align_items": null,
            "align_self": null,
            "border": null,
            "bottom": null,
            "display": null,
            "flex": null,
            "flex_flow": null,
            "grid_area": null,
            "grid_auto_columns": null,
            "grid_auto_flow": null,
            "grid_auto_rows": null,
            "grid_column": null,
            "grid_gap": null,
            "grid_row": null,
            "grid_template_areas": null,
            "grid_template_columns": null,
            "grid_template_rows": null,
            "height": null,
            "justify_content": null,
            "justify_items": null,
            "left": null,
            "margin": null,
            "max_height": null,
            "max_width": null,
            "min_height": null,
            "min_width": null,
            "object_fit": null,
            "object_position": null,
            "order": null,
            "overflow": null,
            "overflow_x": null,
            "overflow_y": null,
            "padding": null,
            "right": null,
            "top": null,
            "visibility": null,
            "width": null
          }
        },
        "7818daf03926441ebd86edb2127bc6ff": {
          "model_module": "@jupyter-widgets/base",
          "model_name": "LayoutModel",
          "model_module_version": "1.2.0",
          "state": {
            "_model_module": "@jupyter-widgets/base",
            "_model_module_version": "1.2.0",
            "_model_name": "LayoutModel",
            "_view_count": null,
            "_view_module": "@jupyter-widgets/base",
            "_view_module_version": "1.2.0",
            "_view_name": "LayoutView",
            "align_content": null,
            "align_items": null,
            "align_self": null,
            "border": null,
            "bottom": null,
            "display": null,
            "flex": null,
            "flex_flow": null,
            "grid_area": null,
            "grid_auto_columns": null,
            "grid_auto_flow": null,
            "grid_auto_rows": null,
            "grid_column": null,
            "grid_gap": null,
            "grid_row": null,
            "grid_template_areas": null,
            "grid_template_columns": null,
            "grid_template_rows": null,
            "height": null,
            "justify_content": null,
            "justify_items": null,
            "left": null,
            "margin": null,
            "max_height": null,
            "max_width": null,
            "min_height": null,
            "min_width": null,
            "object_fit": null,
            "object_position": null,
            "order": null,
            "overflow": null,
            "overflow_x": null,
            "overflow_y": null,
            "padding": null,
            "right": null,
            "top": null,
            "visibility": null,
            "width": null
          }
        },
        "4404747dc0034dd5a967dbce90073395": {
          "model_module": "@jupyter-widgets/controls",
          "model_name": "DescriptionStyleModel",
          "model_module_version": "1.5.0",
          "state": {
            "_model_module": "@jupyter-widgets/controls",
            "_model_module_version": "1.5.0",
            "_model_name": "DescriptionStyleModel",
            "_view_count": null,
            "_view_module": "@jupyter-widgets/base",
            "_view_module_version": "1.2.0",
            "_view_name": "StyleView",
            "description_width": ""
          }
        },
        "f672e372ba4349daa1caa69e114d8e86": {
          "model_module": "@jupyter-widgets/base",
          "model_name": "LayoutModel",
          "model_module_version": "1.2.0",
          "state": {
            "_model_module": "@jupyter-widgets/base",
            "_model_module_version": "1.2.0",
            "_model_name": "LayoutModel",
            "_view_count": null,
            "_view_module": "@jupyter-widgets/base",
            "_view_module_version": "1.2.0",
            "_view_name": "LayoutView",
            "align_content": null,
            "align_items": null,
            "align_self": null,
            "border": null,
            "bottom": null,
            "display": null,
            "flex": null,
            "flex_flow": null,
            "grid_area": null,
            "grid_auto_columns": null,
            "grid_auto_flow": null,
            "grid_auto_rows": null,
            "grid_column": null,
            "grid_gap": null,
            "grid_row": null,
            "grid_template_areas": null,
            "grid_template_columns": null,
            "grid_template_rows": null,
            "height": null,
            "justify_content": null,
            "justify_items": null,
            "left": null,
            "margin": null,
            "max_height": null,
            "max_width": null,
            "min_height": null,
            "min_width": null,
            "object_fit": null,
            "object_position": null,
            "order": null,
            "overflow": null,
            "overflow_x": null,
            "overflow_y": null,
            "padding": null,
            "right": null,
            "top": null,
            "visibility": null,
            "width": null
          }
        },
        "76254b8e77614872954f5af34182cf5e": {
          "model_module": "@jupyter-widgets/controls",
          "model_name": "ProgressStyleModel",
          "model_module_version": "1.5.0",
          "state": {
            "_model_module": "@jupyter-widgets/controls",
            "_model_module_version": "1.5.0",
            "_model_name": "ProgressStyleModel",
            "_view_count": null,
            "_view_module": "@jupyter-widgets/base",
            "_view_module_version": "1.2.0",
            "_view_name": "StyleView",
            "bar_color": null,
            "description_width": ""
          }
        },
        "f427e7fcf7e748e68b1d11849bc90d1c": {
          "model_module": "@jupyter-widgets/base",
          "model_name": "LayoutModel",
          "model_module_version": "1.2.0",
          "state": {
            "_model_module": "@jupyter-widgets/base",
            "_model_module_version": "1.2.0",
            "_model_name": "LayoutModel",
            "_view_count": null,
            "_view_module": "@jupyter-widgets/base",
            "_view_module_version": "1.2.0",
            "_view_name": "LayoutView",
            "align_content": null,
            "align_items": null,
            "align_self": null,
            "border": null,
            "bottom": null,
            "display": null,
            "flex": null,
            "flex_flow": null,
            "grid_area": null,
            "grid_auto_columns": null,
            "grid_auto_flow": null,
            "grid_auto_rows": null,
            "grid_column": null,
            "grid_gap": null,
            "grid_row": null,
            "grid_template_areas": null,
            "grid_template_columns": null,
            "grid_template_rows": null,
            "height": null,
            "justify_content": null,
            "justify_items": null,
            "left": null,
            "margin": null,
            "max_height": null,
            "max_width": null,
            "min_height": null,
            "min_width": null,
            "object_fit": null,
            "object_position": null,
            "order": null,
            "overflow": null,
            "overflow_x": null,
            "overflow_y": null,
            "padding": null,
            "right": null,
            "top": null,
            "visibility": null,
            "width": null
          }
        },
        "6831fb48273648deaa830be71e99a3eb": {
          "model_module": "@jupyter-widgets/controls",
          "model_name": "DescriptionStyleModel",
          "model_module_version": "1.5.0",
          "state": {
            "_model_module": "@jupyter-widgets/controls",
            "_model_module_version": "1.5.0",
            "_model_name": "DescriptionStyleModel",
            "_view_count": null,
            "_view_module": "@jupyter-widgets/base",
            "_view_module_version": "1.2.0",
            "_view_name": "StyleView",
            "description_width": ""
          }
        }
      }
    }
  },
  "cells": [
    {
      "cell_type": "markdown",
      "metadata": {
        "id": "view-in-github",
        "colab_type": "text"
      },
      "source": [
        "<a href=\"https://colab.research.google.com/github/malinphy/os_llms_colab/blob/main/%20LaMini-Cerebras-1.3B.ipynb\" target=\"_parent\"><img src=\"https://colab.research.google.com/assets/colab-badge.svg\" alt=\"Open In Colab\"/></a>"
      ]
    },
    {
      "cell_type": "markdown",
      "source": [
        "#slow"
      ],
      "metadata": {
        "id": "s1GqTxz9QADZ"
      }
    },
    {
      "cell_type": "code",
      "metadata": {
        "id": "Lj6cbR0JBTCP",
        "outputId": "3f6f948d-4d28-4251-8dac-e4acbb7d9e40",
        "colab": {
          "base_uri": "https://localhost:8080/"
        }
      },
      "source": [
        "!pip install git+https://github.com/huggingface/transformers -q\n",
        "!pip install --upgrade requests torch einops accelerate bitsandbytes -q\n",
        "!pip install faiss-cpu -q\n",
        "!pip install langchain -q\n",
        "!pip install sentence-transformers -q"
      ],
      "execution_count": null,
      "outputs": [
        {
          "output_type": "stream",
          "name": "stdout",
          "text": [
            "  Installing build dependencies ... \u001b[?25l\u001b[?25hdone\n",
            "  Getting requirements to build wheel ... \u001b[?25l\u001b[?25hdone\n",
            "  Preparing metadata (pyproject.toml) ... \u001b[?25l\u001b[?25hdone\n"
          ]
        }
      ]
    },
    {
      "cell_type": "code",
      "source": [
        "\n",
        "\n",
        "# from transformers import AutoTokenizer, AutoModelForSeq2SeqLM\n",
        "# from transformers import pipeline\n",
        "# import torch\n",
        "\n",
        "# checkpoint = \"MBZUAI/LaMini-Cerebras-1.3B\"\n",
        "# tokenizer = AutoTokenizer.from_pretrained(checkpoint)\n",
        "# base_model = AutoModelForSeq2SeqLM.from_pretrained(checkpoint,\n",
        "#                                              device_map='auto',\n",
        "#                                              torch_dtype=torch.float32)\n",
        "\n",
        "# pipe = pipeline('text2text-generation',\n",
        "#                  model = base_model,\n",
        "#                  tokenizer = tokenizer,\n",
        "#                  max_length = 1024,\n",
        "#                  do_sample=True,\n",
        "#                  temperature=0.1,\n",
        "#                  top_p=0.95,\n",
        "#                  )\n",
        "\n"
      ],
      "metadata": {
        "id": "1hsq_x5FGyU9"
      },
      "execution_count": null,
      "outputs": []
    },
    {
      "cell_type": "code",
      "source": [
        "\n",
        "# %%time\n",
        "# import textwrap\n",
        "# response = ''\n",
        "# instruction = \"where is the capital of england?\"\n",
        "\n",
        "# # instruction = multiple_input_prompt.format(Inputs=\" \".join(page_contents), Question=english_questions[0])\n",
        "# generated_text = pipe(instruction)\n",
        "# for text in generated_text:\n",
        "#   response += text['generated_text']\n",
        "# wrapped_text = textwrap.fill(response, width=1200)\n",
        "# print(wrapped_text)\n"
      ],
      "metadata": {
        "id": "PCzOLTt2GySI"
      },
      "execution_count": null,
      "outputs": []
    },
    {
      "cell_type": "code",
      "source": [
        "# pip install -q transformers\n",
        "from transformers import pipeline\n",
        "\n",
        "checkpoint = \"MBZUAI/LaMini-Cerebras-1.3B\"\n",
        "\n",
        "model = pipeline('text-generation', model = checkpoint)\n"
      ],
      "metadata": {
        "id": "usEmqwOHGyPe",
        "outputId": "ab833a67-c30d-45e2-9491-f099d7cb2fbb",
        "colab": {
          "base_uri": "https://localhost:8080/",
          "height": 283,
          "referenced_widgets": [
            "ba666b552a044966b806721494e594f8",
            "64e8bac993fc4a6683a8fc16fdc58681",
            "31415dca4eb84ad8922d51672211b23a",
            "f7b8f5479c434702b48c9db31ca200c5",
            "33f1892dfb6549808d2f6fa994387915",
            "7818daf03926441ebd86edb2127bc6ff",
            "4404747dc0034dd5a967dbce90073395",
            "f672e372ba4349daa1caa69e114d8e86",
            "76254b8e77614872954f5af34182cf5e",
            "f427e7fcf7e748e68b1d11849bc90d1c",
            "6831fb48273648deaa830be71e99a3eb"
          ]
        }
      },
      "execution_count": null,
      "outputs": [
        {
          "output_type": "display_data",
          "data": {
            "text/plain": [
              "Downloading (…)neration_config.json:   0%|          | 0.00/124 [00:00<?, ?B/s]"
            ],
            "application/vnd.jupyter.widget-view+json": {
              "version_major": 2,
              "version_minor": 0,
              "model_id": "ba666b552a044966b806721494e594f8"
            }
          },
          "metadata": {}
        },
        {
          "output_type": "stream",
          "name": "stderr",
          "text": [
            "Xformers is not installed correctly. If you want to use memory_efficient_attention to accelerate training use the following command to install Xformers\n",
            "pip install xformers.\n",
            "/usr/local/lib/python3.10/dist-packages/transformers/generation/utils.py:1270: UserWarning: You have modified the pretrained model configuration to control generation. This is a deprecated strategy to control generation and will be removed soon, in a future version. Please use a generation configuration file (see https://huggingface.co/docs/transformers/main_classes/text_generation )\n",
            "  warnings.warn(\n",
            "Setting `pad_token_id` to `eos_token_id`:50256 for open-end generation.\n"
          ]
        },
        {
          "output_type": "stream",
          "name": "stdout",
          "text": [
            "Response Below is an instruction that describes a task. Write a response that appropriately completes the request.\n",
            "\n",
            "### Instruction:\n",
            "Please let me know your thoughts on the given place and why you think it deserves to be visited: \n",
            "\"Barcelona, Spain\"\n",
            "\n",
            "### Response:As an AI language model, I do not have personal thoughts or opinions. However, the question asked is asking for my opinion and whether it deserves to be visited, so I can provide a concise bestselling answer.\n"
          ]
        }
      ]
    },
    {
      "cell_type": "code",
      "source": [
        "\n",
        "instruction = 'Who is Rishi Sunak'\n",
        "input_prompt = f\"\"\"Rishi Sunak (/ˈrɪʃi ˈsuːnæk/ (listen) RISH-ee SOO-nak;[1][2] born 12 May 1980) is a British politician serving as Prime Minister of the United Kingdom and Leader of the Conservative Party since 2022. He previously held two cabinet positions under Boris Johnson, lastly as Chancellor of the Exchequer from 2020 to 2022. Sunak has been the Member of Parliament (MP) for Richmond (Yorks) since 2015. He is the first British Asian and Hindu to hold the office of prime minister.\n",
        "                Sunak was born in Southampton to parents of Indian descent who immigrated to Britain from East Africa in the 1960s. He was educated at Winchester College, studied philosophy, politics and economics at Lincoln College, Oxford, and earned an MBA from Stanford University in California as a Fulbright Scholar. During his time at Oxford University, Sunak undertook an internship at Conservative Central Office, and joined the Conservative Party. After graduating, Sunak worked for Goldman Sachs and later as a partner at the hedge fund firms The Children's Investment Fund Management and Theleme Partners.\n",
        "\n",
        "                Sunak was elected to the House of Commons for Richmond in North Yorkshire at the 2015 general election. As a backbencher, Sunak supported the successful campaign for Brexit in the 2016 European Union (EU) membership referendum. Following the 2017 general election, Sunak was appointed to a junior ministerial position in Theresa May's second government as Parliamentary Under-Secretary of State for Local Government in the 2018 cabinet reshuffle. He voted three times in favour of May's Brexit withdrawal agreement, which was rejected by Parliament three times, leading to May announcing her resignation. During the 2019 Conservative Party leadership election, Sunak supported Johnson's successful bid to succeed May as Conservative leader and prime minister, after which he appointed Sunak as Chief Secretary to the Treasury in July 2019. \\n\\n###\n",
        "                Instruction:\\n{instruction}\\n\\n### Response:\"\"\"\n",
        "\n",
        "generated_text = model(input_prompt, max_length=512, do_sample=True)[0]['generated_text']\n",
        "\n",
        "print(\"Response\", generated_text)\n"
      ],
      "metadata": {
        "id": "m3affrZNJmsD",
        "outputId": "cb84ae31-e55e-4a2d-e41c-1c697d373314",
        "colab": {
          "base_uri": "https://localhost:8080/"
        }
      },
      "execution_count": null,
      "outputs": [
        {
          "output_type": "stream",
          "name": "stderr",
          "text": [
            "Setting `pad_token_id` to `eos_token_id`:50256 for open-end generation.\n"
          ]
        },
        {
          "output_type": "stream",
          "name": "stdout",
          "text": [
            "Response Rishi Sunak (/ˈrɪʃi ˈsuːnæk/ (listen) RISH-ee SOO-nak;[1][2] born 12 May 1980) is a British politician serving as Prime Minister of the United Kingdom and Leader of the Conservative Party since 2022. He previously held two cabinet positions under Boris Johnson, lastly as Chancellor of the Exchequer from 2020 to 2022. Sunak has been the Member of Parliament (MP) for Richmond (Yorks) since 2015. He is the first British Asian and Hindu to hold the office of prime minister.\n",
            "                Sunak was born in Southampton to parents of Indian descent who immigrated to Britain from East Africa in the 1960s. He was educated at Winchester College, studied philosophy, politics and economics at Lincoln College, Oxford, and earned an MBA from Stanford University in California as a Fulbright Scholar. During his time at Oxford University, Sunak undertook an internship at Conservative Central Office, and joined the Conservative Party. After graduating, Sunak worked for Goldman Sachs and later as a partner at the hedge fund firms The Children's Investment Fund Management and Theleme Partners.\n",
            "\n",
            "                Sunak was elected to the House of Commons for Richmond in North Yorkshire at the 2015 general election. As a backbencher, Sunak supported the successful campaign for Brexit in the 2016 European Union (EU) membership referendum. Following the 2017 general election, Sunak was appointed to a junior ministerial position in Theresa May's second government as Parliamentary Under-Secretary of State for Local Government in the 2018 cabinet reshuffle. He voted three times in favour of May's Brexit withdrawal agreement, which was rejected by Parliament three times, leading to May announcing her resignation. During the 2019 Conservative Party leadership election, Sunak supported Johnson's successful bid to succeed May as Conservative leader and prime minister, after which he appointed Sunak as Chief Secretary to the Treasury in July 2019. \n",
            "\n",
            "### \n",
            "                Instruction:\n",
            "Who is Rishi Sunak\n",
            "\n",
            "### Response:Rishi Sunak is a British politician and the current leader of the Conservative Party.\n"
          ]
        }
      ]
    },
    {
      "cell_type": "code",
      "source": [],
      "metadata": {
        "id": "g3o4qJXIMun7"
      },
      "execution_count": null,
      "outputs": []
    }
  ]
}