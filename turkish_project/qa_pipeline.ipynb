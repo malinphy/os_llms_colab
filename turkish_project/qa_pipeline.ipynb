{
  "nbformat": 4,
  "nbformat_minor": 0,
  "metadata": {
    "colab": {
      "provenance": [],
      "gpuType": "T4"
    },
    "kernelspec": {
      "name": "python3",
      "display_name": "Python 3"
    },
    "language_info": {
      "name": "python"
    },
    "gpuClass": "standard",
    "accelerator": "GPU"
  },
  "cells": [
    {
      "cell_type": "code",
      "source": [
        "# PACKAGES FOR TRANSLATION\n",
        "!pip install transformers -q\n",
        "!pip install sentencepiece -q\n",
        "!pip install sacremoses -q\n",
        "\n",
        "# # PACKAGES FOR SENTENCE VECTORIZERS\n",
        "!pip install -U sentence-transformers -q\n",
        "!pip install faiss-cpu -q\n",
        "!pip install langchain -q\n",
        "\n",
        "# PACKAGES FOR LLM\n",
        "!pip install -q datasets loralib sentencepiece -q\n",
        "!pip uninstall transformers -q\n",
        "!pip install -q git+https://github.com/zphang/transformers@c3dc391 -q\n",
        "!pip -q install git+https://github.com/huggingface/peft.git -q\n",
        "!pip -q install bitsandbytes -q"
      ],
      "metadata": {
        "colab": {
          "base_uri": "https://localhost:8080/"
        },
        "id": "oDEu-GLMRu-0",
        "outputId": "8a772bb1-a723-4968-e020-a0c2ab304935"
      },
      "execution_count": 15,
      "outputs": [
        {
          "output_type": "stream",
          "name": "stdout",
          "text": [
            "Proceed (Y/n)? Y\n",
            "\u001b[33m  WARNING: Did not find branch or tag 'c3dc391', assuming revision or ref.\u001b[0m\u001b[33m\n",
            "\u001b[0m  Installing build dependencies ... \u001b[?25l\u001b[?25hdone\n",
            "  Getting requirements to build wheel ... \u001b[?25l\u001b[?25hdone\n",
            "  Preparing metadata (pyproject.toml) ... \u001b[?25l\u001b[?25hdone\n",
            "  Building wheel for transformers (pyproject.toml) ... \u001b[?25l\u001b[?25hdone\n",
            "  Installing build dependencies ... \u001b[?25l\u001b[?25hdone\n",
            "  Getting requirements to build wheel ... \u001b[?25l\u001b[?25hdone\n",
            "  Preparing metadata (pyproject.toml) ... \u001b[?25l\u001b[?25hdone\n"
          ]
        }
      ]
    },
    {
      "cell_type": "code",
      "source": [
        "from trans import tr2eng ### tr2eng translation task\n",
        "# from trans import tr2eng\n",
        "from sent_vectorizer import vectorizer, cleaner ### sentence vectorizer\n",
        "import faiss\n",
        "import numpy as np \n",
        "import pandas as pd\n",
        "from langchain.prompts import PromptTemplate"
      ],
      "metadata": {
        "id": "TPrKVI0xRu8M"
      },
      "execution_count": 16,
      "outputs": []
    },
    {
      "cell_type": "code",
      "source": [
        "# eng_trans = tr2eng('benim adim mehmet')\n",
        "# print(tr2eng('Turkiye\\'nin baskenti Ankara\\'dir.'))"
      ],
      "metadata": {
        "id": "9FSiu2tUTN4l"
      },
      "execution_count": 17,
      "outputs": []
    },
    {
      "cell_type": "code",
      "source": [
        "# Who is Beyoncé Giselle Knowles-Carter? What is her profession?\n",
        "query = 'Beyoncé Giselle Knowles-Carter kimdir ve meslegi nedir?' "
      ],
      "metadata": {
        "id": "HlZuC-D3aXW5"
      },
      "execution_count": 61,
      "outputs": []
    },
    {
      "cell_type": "code",
      "source": [
        "query_eng = tr2eng(query)"
      ],
      "metadata": {
        "colab": {
          "base_uri": "https://localhost:8080/"
        },
        "id": "jAMBaY1BmLL1",
        "outputId": "4f0c8be2-1b3c-4aaf-c595-2a6b130e4717"
      },
      "execution_count": 62,
      "outputs": [
        {
          "output_type": "stream",
          "name": "stderr",
          "text": [
            "/usr/local/lib/python3.10/dist-packages/transformers/generation/utils.py:1288: UserWarning: Using `max_length`'s default (512) to control the generation length. This behaviour is deprecated and will be removed from the config in v5 of Transformers -- we recommend using `max_new_tokens` to control the maximum length of the generation.\n",
            "  warnings.warn(\n"
          ]
        }
      ]
    },
    {
      "cell_type": "code",
      "source": [
        "print(query_eng)"
      ],
      "metadata": {
        "colab": {
          "base_uri": "https://localhost:8080/"
        },
        "id": "UMhjQlOEmRdV",
        "outputId": "b2e47eb0-d9c5-47b0-cb4d-60feef8892ff"
      },
      "execution_count": 63,
      "outputs": [
        {
          "output_type": "stream",
          "name": "stdout",
          "text": [
            "Who is Beyoncé Giselle Knowles-Carter and what is her profession?\n"
          ]
        }
      ]
    },
    {
      "cell_type": "code",
      "source": [
        "eng_query_vector = vectorizer(query_eng)\n",
        "eng_query_vector = np.array(eng_query_vector).reshape(1,384)"
      ],
      "metadata": {
        "id": "hEALj5ypat80"
      },
      "execution_count": 64,
      "outputs": []
    },
    {
      "cell_type": "code",
      "source": [
        "vector_store = faiss.read_index(\"drive/MyDrive/QQ_PROJECTS/turkish_project/squad_turkish/squad_turkish/squad_index.index\")"
      ],
      "metadata": {
        "id": "XndkyJuGa3Q5"
      },
      "execution_count": 65,
      "outputs": []
    },
    {
      "cell_type": "code",
      "source": [
        "K = 3\n",
        "top_index = vector_store.search(np.array(eng_query_vector), k =3)[1][0][0]"
      ],
      "metadata": {
        "id": "qX-vijQxbIBi"
      },
      "execution_count": 66,
      "outputs": []
    },
    {
      "cell_type": "code",
      "source": [
        "df =  pd.read_csv('drive/MyDrive/QQ_PROJECTS/turkish_project/squad_turkish/squad_turkish/squad_unique_tr_eng.csv')"
      ],
      "metadata": {
        "id": "j8tANlsKbgVp"
      },
      "execution_count": 67,
      "outputs": []
    },
    {
      "cell_type": "code",
      "source": [
        "top_index"
      ],
      "metadata": {
        "colab": {
          "base_uri": "https://localhost:8080/"
        },
        "id": "Z3iGCtgLeazx",
        "outputId": "9ba8dcdf-d1bc-43f9-c4d0-328eba9e2c1a"
      },
      "execution_count": 68,
      "outputs": [
        {
          "output_type": "execute_result",
          "data": {
            "text/plain": [
              "0"
            ]
          },
          "metadata": {},
          "execution_count": 68
        }
      ]
    },
    {
      "cell_type": "code",
      "source": [
        "query_context =  df['english'][top_index]"
      ],
      "metadata": {
        "id": "ef3gDU-ocU3o"
      },
      "execution_count": 69,
      "outputs": []
    },
    {
      "cell_type": "code",
      "source": [
        "from langchain.prompts import PromptTemplate"
      ],
      "metadata": {
        "id": "V5IBkmain9IB"
      },
      "execution_count": 70,
      "outputs": []
    },
    {
      "cell_type": "code",
      "source": [
        "input_prompt = PromptTemplate(\n",
        "    input_variables = ['given_context','given_question'],\n",
        "    template = \"\"\"try to answer the given question according to the given text.\n",
        "        Given text : {given_context}\n",
        "        Question : {given_question}\n",
        "        \"\"\"\n",
        ")"
      ],
      "metadata": {
        "id": "0JUShtQBnCWS"
      },
      "execution_count": 71,
      "outputs": []
    },
    {
      "cell_type": "code",
      "source": [
        "query_context"
      ],
      "metadata": {
        "colab": {
          "base_uri": "https://localhost:8080/",
          "height": 71
        },
        "id": "wzCKGRmUpWrS",
        "outputId": "f88d8283-d1de-49ce-b325-08c3b94ceb1c"
      },
      "execution_count": 72,
      "outputs": [
        {
          "output_type": "execute_result",
          "data": {
            "text/plain": [
              "\" Beyoncé Giselle Knowles-Carter (born September 4, 1981) is an American singer, songwriter, producer and actress. She was born and raised in Houston, Texas, performed in various singing and dancing contests as a child, and was awarded the R&B girls' R&B band Destiny's Child in the late 1990s, and was named as the lead singer of her father, Mathew Knowles, one of the best-selling girls of all time.</s>\""
            ],
            "application/vnd.google.colaboratory.intrinsic+json": {
              "type": "string"
            }
          },
          "metadata": {},
          "execution_count": 72
        }
      ]
    },
    {
      "cell_type": "code",
      "source": [
        "context = \"\"\"Beyoncé Giselle Knowles-Carter (born September 4, 1981) is an American singer, songwriter, producer and actress. \n",
        "            She was born and raised in Houston, Texas, performed in various singing and dancing contests as a child, \n",
        "            and was awarded the R&B girls\\' R&B band Destiny\\'s Child in the late 1990s, and was named as the lead singer of her father, \n",
        "            Mathew Knowles, one of the best-selling girls of all time. \n",
        "            \"\"\"\n",
        "question =\"\"\"when is the birthday of Beyoncé Giselle Knowles-Carter?\"\"\"             \n",
        "LLM_input = input_prompt.format(given_context = query_context, given_question = query_eng)"
      ],
      "metadata": {
        "id": "rhZaFP90oDdN"
      },
      "execution_count": 73,
      "outputs": []
    },
    {
      "cell_type": "code",
      "source": [
        "print(LLM_input)"
      ],
      "metadata": {
        "colab": {
          "base_uri": "https://localhost:8080/"
        },
        "id": "46XwWcpxpgsl",
        "outputId": "5ba29fc9-60c9-4445-9fa2-dfa63f4d04e1"
      },
      "execution_count": 74,
      "outputs": [
        {
          "output_type": "stream",
          "name": "stdout",
          "text": [
            "try to answer the given question according to the given text.\n",
            "        Given text :  Beyoncé Giselle Knowles-Carter (born September 4, 1981) is an American singer, songwriter, producer and actress. She was born and raised in Houston, Texas, performed in various singing and dancing contests as a child, and was awarded the R&B girls' R&B band Destiny's Child in the late 1990s, and was named as the lead singer of her father, Mathew Knowles, one of the best-selling girls of all time.</s>\n",
            "        Question : Who is Beyoncé Giselle Knowles-Carter and what is her profession?\n",
            "        \n"
          ]
        }
      ]
    },
    {
      "cell_type": "code",
      "source": [
        "from llm_starter import alpaca_talk"
      ],
      "metadata": {
        "id": "Buw4wl_Gdgnm"
      },
      "execution_count": 59,
      "outputs": []
    },
    {
      "cell_type": "code",
      "source": [
        "cont = \"\"\"  \n",
        "            Given text :\n",
        "            Beyoncé Giselle Knowles-Carter (born September 4, 1981) is an American singer, songwriter, producer and actress. \n",
        "            She was born and raised in Houston, Texas, performed in various singing and dancing contests as a child, \n",
        "            and was awarded the R&B girls\\' R&B band Destiny\\'s Child in the late 1990s, and was named as the lead singer of her father, \n",
        "            Mathew Knowles, one of the best-selling girls of all time. \n",
        "\n",
        "            try to answer the given question according to the given text.\n",
        "            Question :\n",
        "            when is the birthday of Beyoncé Giselle Knowles-Carter?\n",
        "            \"\"\"\n",
        "pref = \"\"\"\n",
        "        try to answer the given question according to the given text.\n",
        "        \"\"\"\n",
        "\n",
        "q = \"\"\"\n",
        "    Question :\n",
        "    when is the birthday of Beyoncé Giselle Knowles-Carter?\n",
        "    \"\"\"        "
      ],
      "metadata": {
        "id": "01a85AyKiKK-"
      },
      "execution_count": 33,
      "outputs": []
    },
    {
      "cell_type": "code",
      "source": [
        "import re\n",
        "re.sub('    ',' ',cont)"
      ],
      "metadata": {
        "colab": {
          "base_uri": "https://localhost:8080/",
          "height": 89
        },
        "id": "HSdy3PKpzssV",
        "outputId": "42aec049-e5e5-4ad0-c823-041127868d95"
      },
      "execution_count": 34,
      "outputs": [
        {
          "output_type": "execute_result",
          "data": {
            "text/plain": [
              "\"  \\n   Given text :\\n   Beyoncé Giselle Knowles-Carter (born September 4, 1981) is an American singer, songwriter, producer and actress. \\n   She was born and raised in Houston, Texas, performed in various singing and dancing contests as a child, \\n   and was awarded the R&B girls' R&B band Destiny's Child in the late 1990s, and was named as the lead singer of her father, \\n   Mathew Knowles, one of the best-selling girls of all time. \\n\\n   try to answer the given question according to the given text.\\n   Question :\\n   when is the birthday of Beyoncé Giselle Knowles-Carter?\\n   \""
            ],
            "application/vnd.google.colaboratory.intrinsic+json": {
              "type": "string"
            }
          },
          "metadata": {},
          "execution_count": 34
        }
      ]
    },
    {
      "cell_type": "code",
      "source": [
        "alpaca_res = alpaca_talk(\"\"\"  \n",
        "            Given text :\n",
        "            Beyoncé Giselle Knowles-Carter (born September 4, 1981) is an American singer, songwriter, producer and actress. \n",
        "            She was born and raised in Houston, Texas, performed in various singing and dancing contests as a child, \n",
        "            and was awarded the R&B girls\\' R&B band Destiny\\'s Child in the late 1990s, and was named as the lead singer of her father, \n",
        "            Mathew Knowles, one of the best-selling girls of all time. \n",
        "\n",
        "            try to answer the given question according to the given text.\n",
        "            given question :\n",
        "            Who is Beyoncé Giselle Knowles-Carter? What is her profession?\n",
        "            And translate the answer into turkish language.\n",
        "            \"\"\")"
      ],
      "metadata": {
        "colab": {
          "base_uri": "https://localhost:8080/"
        },
        "id": "JQDLXAUwiPmZ",
        "outputId": "f9d1dbeb-08e7-44aa-8b45-96a9f141a6a2"
      },
      "execution_count": 77,
      "outputs": [
        {
          "output_type": "stream",
          "name": "stdout",
          "text": [
            "Generating...\n",
            "   \n",
            "            Given text :\n",
            "            Beyoncé Giselle Knowles-Carter (born September 4, 1981) is an American singer, songwriter, producer and actress. \n",
            "            She was born and raised in Houston, Texas, performed in various singing and dancing contests as a child, \n",
            "            and was awarded the R&B girls' R&B band Destiny's Child in the late 1990s, and was named as the lead singer of her father, \n",
            "            Mathew Knowles, one of the best-selling girls of all time. \n",
            "\n",
            "            try to answer the given question according to the given text.\n",
            "            given question :\n",
            "            Who is Beyoncé Giselle Knowles-Carter? What is her profession?\n",
            "            And translate the answer into turkish language.\n",
            "            \n",
            "        \"\"\"\n",
            "        \n",
            "        # get input from user\n",
            "        question = self._get_question()\n",
            "        answer = self._get_answer(question)\n",
            "    \n",
            "        if not answer:\n",
            "            return None\n",
            "                \n",
            "        # convert english sentence to turkish sentence\n",
            "        translated_sentence = self._translate_english_to_turkish(answer)\n"
          ]
        }
      ]
    },
    {
      "cell_type": "code",
      "source": [
        "alpaca_res = alpaca_talk(LLM_input)"
      ],
      "metadata": {
        "id": "yJIK3echifsm",
        "colab": {
          "base_uri": "https://localhost:8080/"
        },
        "outputId": "d8b1c7f2-8051-42da-f2b2-4da80f6627f9"
      },
      "execution_count": 75,
      "outputs": [
        {
          "output_type": "stream",
          "name": "stdout",
          "text": [
            "Generating...\n",
            " try to answer the given question according to the given text.\n",
            "        Given text :  Beyoncé Giselle Knowles-Carter (born September 4, 1981) is an American singer, songwriter, producer and actress. She was born and raised in Houston, Texas, performed in various singing and dancing contests as a child, and was awarded the R&B girls' R&B band Destiny's Child in the late 1990s, and was named as the lead singer of her father, Mathew Knowles, one of the best-selling girls of all time.</s>\n",
            "        Question : Who is Beyoncé Giselle Knowles-Carter and what is her profession?\n",
            "         Answer: Beyonce Gisele Knowles Carter is an American Singer, Song Writer, Producer & Actress\n"
          ]
        }
      ]
    },
    {
      "cell_type": "code",
      "source": [],
      "metadata": {
        "id": "Xae_MMXu5bxF"
      },
      "execution_count": null,
      "outputs": []
    }
  ]
}